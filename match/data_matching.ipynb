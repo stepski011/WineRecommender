{
 "cells": [
  {
   "cell_type": "code",
   "execution_count": 1,
   "metadata": {},
   "outputs": [],
   "source": [
    "import numpy as np\n",
    "import json\n",
    "import pandas as pd\n",
    "import re"
   ]
  },
  {
   "cell_type": "markdown",
   "metadata": {},
   "source": [
    "read scraping result data"
   ]
  },
  {
   "cell_type": "code",
   "execution_count": 2,
   "metadata": {},
   "outputs": [],
   "source": [
    "with open('/home/p/wines/winerecommender/vivino scraper/vivino_data.json') as f:\n",
    "   vivino_data = json.load(f)\n",
    "   \n",
    "di = pd.read_excel('/home/p/wines/winerecommender/local scrapers/DirektImport/Direkt-Import.xlsx')\n",
    "dv = pd.read_excel('/home/p/wines/winerecommender/local scrapers/Divino/Divino.xlsx')\n",
    "jacq = pd.read_csv('/home/p/wines/winerecommender/local scrapers/jacques.de/jacques_de.csv', encoding='utf-8')\n",
    "\n",
    "\n"
   ]
  },
  {
   "cell_type": "markdown",
   "metadata": {},
   "source": [
    "format vivino data after extraction if necessary"
   ]
  },
  {
   "cell_type": "code",
   "execution_count": 3,
   "metadata": {},
   "outputs": [],
   "source": [
    "# filter vivino data by keys used for matching, transform to DataFrame and export as .csv\n",
    "cols = ['wine_id','wine_name','wine_winery', 'wine_country', 'wine_region', 'wine_year', 'wine_type', 'wine_price', 'wine_alcohol']\n",
    "\n",
    "vivDict_full = [{k: dic[k] for k in vivino_data[0].keys()} for dic in vivino_data]\n",
    "vivino_df = pd.DataFrame.from_dict(vivDict_full)\n",
    "vivino_df = vivino_df.set_index('wine_id')\n",
    "vivino_df.to_csv('/home/p/wines/winerecommender/data matching/intermediate_results/vivino_full.csv')\n"
   ]
  },
  {
   "cell_type": "markdown",
   "metadata": {},
   "source": [
    "Define helper functions to format local wine data"
   ]
  },
  {
   "cell_type": "code",
   "execution_count": 4,
   "metadata": {},
   "outputs": [],
   "source": [
    "applied\n",
    "    try: \n",
    "        return switch.get(t.replace(',','').strip().split(' ')[0], 'sparkling')\n",
    "    except:\n",
    "        return \n",
    "\n",
    "\n",
    "#formats price strings to xx.xx instead of eg. xx,xx$ or $xx.xx. likely unneccessarily complicated but works for now\n",
    "def formatPrice(x):\n",
    "    x = str(x).strip()\n",
    "    if re.match('/^\\d+,\\d+/', x):\n",
    "        return float(x.replace('.','').replace(',', '.'))\n",
    "    else:\n",
    "        if re.match('/^\\d+.\\d+$/', x):\n",
    "            return float(x)\n",
    "        else:\n",
    "            if re.match('^\\s*$', x):\n",
    "                return float(0)\n",
    "            else:\n",
    "                return float(x.replace('.','').replace(',', '.').replace('€', '').strip())\n",
    "\n",
    "#removes years from the name, keeps the producer though\n",
    "def removeYear(x):\n",
    "    sub = re.sub('\\d{4}', '', x)\n",
    "    return sub.strip()\n",
    "\n",
    "#formats alcohol percentage\n",
    "\n",
    "def formatAlcohol(x):\n",
    "    #if multiple percentages were scraped, just take the first one\n",
    "    x = str(x).split(', ')[0]\n",
    "    x = float(x.replace('%', '').replace(',','.').strip())\n",
    "    return x\n",
    "\n",
    "#takes year from name string of DirektImport wines\n",
    "\n",
    "def getYears(names):\n",
    "    out = []\n",
    "    for x in names:\n",
    "        x= str(x)\n",
    "        m = re.search('\\d{4}', x)\n",
    "        if m:\n",
    "            out.append(m.group(0))\n",
    "        else:\n",
    "            out.append(None)\n",
    "    return out\n",
    "\n",
    "#split the string by triple whitespace, then split first element by comma. return first element of that as winery, second element of first split as wine. Works for Direktimport due to consistent naming\n",
    "\n",
    "def splitWinery(names):\n",
    "    wineries = []\n",
    "    wines = [] \n",
    "\n",
    "    for x in names:\n",
    "        w = str(x).strip().split('   ')\n",
    "        wineries.append(w[0].strip().split(',')[0])\n",
    "        wines.append(w[1].strip())\n",
    "    return wineries, wines\n",
    "#get quality indicators from table\n",
    "def getQualityIndicators(array):\n",
    "    seen = set()\n",
    "    quals_set = []\n",
    "    for item in array:\n",
    "        quals = str(item).strip().split(',')\n",
    "        for qual in quals:\n",
    "            qual = qual.strip()\n",
    "            if qual not in seen:\n",
    "                seen.add(qual)\n",
    "                quals_set.append(qual)\n",
    "    return sorted(quals_set)\n",
    "\n",
    "\n",
    "#remove winery, strip spaces, remove quality sigs\n",
    "def formatName(x, quals):\n",
    "    x = removeYear(str(x))\n",
    "    for qual in quals:\n",
    "        if re.match(qual, x):\n",
    "            x = re.sub(qual, '', x)\n",
    "    re.sub('\\s+', ' ', x)\n",
    "    return x\n",
    "\n",
    "# replace values in df[col] with values in val if empty/None\n",
    "def replaceMissingYears(df, col, val):\n",
    "    indicies_of_missing = df[df[col].isnull()].index \n",
    "    for fill_index, dataframe_index in enumerate(indicies_of_missing):\n",
    "        df.loc[dataframe_index, col] = val[dataframe_index]\n",
    "    return df\n",
    "\n",
    "\n",
    "# removes bio certs from jacques wines\n",
    "\n",
    "def stripBio(x):\n",
    "    try:\n",
    "        x = re.sub('\\s–\\s[\\u00C0-\\u017Fa-zA-Z\\']{2}-[\\u00C0-\\u017Fa-zA-Z\\']{3}-\\d{2,3}', '' ,str(x)).strip()\n",
    "    except Exception as e:\n",
    "        print(e)\n",
    "    return x\n",
    "\n",
    "\n",
    "\n",
    "#remove weird year entries (e.g. Jahrgangscuvee)\n",
    "def formatYear(x):\n",
    "    x = str(x).strip()\n",
    "    reg = re.compile('^\\d{4}')\n",
    "    if reg.match(x):\n",
    "        return reg.search(x).group()\n",
    "    else:\n",
    "        return None\n",
    "\n",
    "#apparently doesn't work as a direct map\n",
    "def stripCountry(x):\n",
    "    x = str(x)\n",
    "    return x.strip()"
   ]
  },
  {
   "cell_type": "markdown",
   "metadata": {},
   "source": [
    "# Format Local Wine Data\n",
    "In the next set of cells, we apply the previously defined functions to clean & standardize the scraping results as much as possible before starting to match the data sets."
   ]
  },
  {
   "cell_type": "code",
   "execution_count": 38,
   "metadata": {},
   "outputs": [],
   "source": [
    "\n",
    "# ## DO NOT USE AGAIN, extracted regions and formatted alcohol from  early jacques scraper\n",
    "\n",
    "# def getRegionJacques(series):\n",
    "\n",
    "#     regions = []\n",
    "#     for item in series:\n",
    "#         temp = re.sub(' +', ' ',item.replace(\"\\xa0\", \"\").strip()).split('\\n\\n')\n",
    "#         try:\n",
    "#             regions.append(temp[0].split(', ')[1].strip())\n",
    "#         except:\n",
    "#             regions.append('')\n",
    "#     return regions\n",
    "\n",
    "\n",
    "jac2 = pd.DataFrame()\n",
    "\n",
    "\n",
    "jac2['wine_country'] = jacq['Herkunft']\n",
    "jac2['wine_year'] = getYears(jacq['Name'])\n",
    "jac2['wine_name'] = jacq['Name'].map(lambda x: removeYear(x))\n",
    "jac2['wine_name'] = jac2['wine_name'].map(lambda x: stripBio(x))\n",
    "#jac2['wine_name'] = jac2['wine_name'].map(lambda x: stripSize(x))\n",
    "jac2['wine_seller'] = 3\n",
    "#jac2['wine_region'] = getRegionjacq(jacq['Name'])\n",
    "jac2['wine_alcohol'] = jacq['Alkoholgehalt'].map(lambda x: formatAlcohol(x))\n",
    "jac2['wine_price'] = jacq['Preis in euro'].map(lambda x: formatPrice(x))\n",
    "jac2['wine_type'] = jacq['Typ'].map(lambda x: updateWineType(x))\n",
    "jac2['wine_description'] = jacq['Beschreibung']\n",
    "jac2['wine_url'] = jacq['URL']\n",
    "jac2['wine_thumb'] = jacq['Thumb']\n",
    "jac2.applymap(lambda x: x.strip() if isinstance(x, str) else x)\n",
    "\n",
    "jac2.to_csv('/home/p/wines/winerecommender/data matching/intermediate_results/jacques_formatted.csv')"
   ]
  },
  {
   "cell_type": "code",
   "execution_count": 116,
   "metadata": {},
   "outputs": [
    {
     "name": "stdout",
     "output_type": "stream",
     "text": [
      "Index(['Id', 'Name:', 'Hersteller:', 'Erzeugnis aus:', 'Region:', 'Wein:',\n",
      "       'Jahrgang:', 'Rebsorte:', 'Qualität:', 'Alkohol in %:', 'Geschmack:',\n",
      "       'Allergene:', 'Trinktemperatur in °C:', 'Trinkempfehlung:',\n",
      "       'Dekantieren:', 'Verschluß:', 'Säure g/l:', 'Restzucker g/l:', 'Boden:',\n",
      "       'Essen:', 'Ausbauart:', 'Auszeichnungen:', 'Paßt zu:', 'Lage:',\n",
      "       'Herstellung:', 'Produkt aus biologischem Anbau:', 'Biokontrollstelle:',\n",
      "       'Diverses:', 'Zutaten:', 'Preis:', 'Image:', 'Details-URL:',\n",
      "       'Verkostungsnotiz:', 'Seller'],\n",
      "      dtype='object')\n"
     ]
    }
   ],
   "source": [
    "print(di.columns)\n",
    "cols=['wine_name','wine_winery', 'wine_country', 'wine_region', 'wine_year', 'wine_type', 'wine_price', 'wine_alcohol', 'wine_description', 'wine_thumb', 'wine_url', 'wine_seller']\n",
    "\n",
    "matching_df = pd.DataFrame(columns=cols)\n",
    "di['Region:'] = di['Region:'].map(lambda x: str(x).strip().split(', ')[0])\n",
    "di['Wein:'] = di['Wein:'].map(lambda x: updateWineType(x))\n",
    "di['Alkohol in %:'] = di['Alkohol in %:'].map(lambda x: formatAlcohol(x))\n",
    "di['Preis:'] = di['Preis:'].map(lambda x: formatPrice(x))\n",
    "years_temp = getYears(di['Name:'])\n",
    "di['Name:'] = di['Name:'].map(lambda x: removeYear(x))\n",
    "#di['Name:'] = di['Name:'].map(lambda x: stripSize(x))\n",
    "\n",
    "#not sure how to put this in a function\n",
    "di = replaceMissingYears(di, 'Jahrgang:', years_temp)\n",
    "di['Jahrgang:'] = di['Jahrgang:'].map(lambda x: formatYear(x))\n",
    "# this is likely overkill and will produce weird results\n",
    "# quals = getQualityIndicators(di['Qualität:'])\n",
    "quals = []\n",
    "\n",
    "di['Hersteller:'], di['Name:'] = splitWinery(di['Name:'])\n",
    "di['Erzeugnis aus:'] = di['Erzeugnis aus:'].map(lambda x: stripCountry(x))\n",
    "di['Name:'] = di['Name:'].map(lambda x: formatName(x, quals))\n",
    "\n",
    "di_new = di[['Name:', 'Hersteller:', 'Erzeugnis aus:', 'Region:', 'Jahrgang:', 'Wein:', 'Preis:', 'Alkohol in %:', 'Verkostungsnotiz:', 'Image:', 'Details-URL:', 'Seller']]\n",
    "di_new.columns = cols\n",
    "\n",
    "#remove sets of wines offered by direktimport\n",
    "di_new = di_new[~di_new['wine_name'].str.contains('paket')]\n",
    "di_new = di_new[~di_new['wine_name'].str.contains('Paket')]\n",
    "di_new.applymap(lambda x: x.strip() if isinstance(x, str) else x)\n",
    "di_new.to_csv('/home/p/wines/winerecommender/data matching/intermediate_results/direktimport_formatted.csv')\n",
    "   "
   ]
  },
  {
   "cell_type": "code",
   "execution_count": 117,
   "metadata": {},
   "outputs": [
    {
     "name": "stdout",
     "output_type": "stream",
     "text": [
      "Index(['Id', 'Name', 'Jahrgang', 'Rebsorte', 'Weingut', 'Produktbezeichnung',\n",
      "       'Ort', 'Passt gut zu', 'Herkunftsland', 'Anlass', 'Größe des Winzers',\n",
      "       'Winzer', 'Region', 'Herstellungsmethode', 'Art', 'Lagerfähigkeit',\n",
      "       'Charakteristik', 'Preis', 'Image', 'Details-URL', 'Beschreibung',\n",
      "       'Seller'],\n",
      "      dtype='object')\n",
      "      Id                                               Name Jahrgang  \\\n",
      "0      1  2016 Cascina Castlèt Passum Barbera d'Asti D.O...     2016   \n",
      "1      2  2017 Cascina Castlèt Litina Barbera d'Asti D.O...     2016   \n",
      "2      3  2017 Cascina Castlèt Passum Barbera d'Asti D.O...     2017   \n",
      "3      4  2017 Cascina Castlèt Litina Barbera d'Asti D.O...     2017   \n",
      "4      5  2020 Nicolas Duffour Le Galopin de Gascogne Ro...     2020   \n",
      "..   ...                                                ...      ...   \n",
      "136  137                    Weingut Hain Riesling Sekt Brut     None   \n",
      "137  138  Casalini \"Cal Busa\" Prosecco di Valdobbiadene ...     None   \n",
      "138  139  Casalini \"Cal Busa\" Prosecco di Valdobbiadene ...     None   \n",
      "139  140       divino.de Prosecco D.O.C. Spumante Extra Dry     None   \n",
      "140  141                divino.de Prosecco D.O.C. Frizzante     None   \n",
      "\n",
      "                               Rebsorte            Weingut  \\\n",
      "0                               Barbera    Cascina Castlet   \n",
      "1                               Barbera    Cascina Castlet   \n",
      "2                               Barbera    Cascina Castlet   \n",
      "3                               Barbera    Cascina Castlet   \n",
      "4    Cabernet Sauvignon, Merlot, Tannat                NaN   \n",
      "..                                  ...                ...   \n",
      "136                            Riesling       Weingut Hain   \n",
      "137                    Prosecco / Glera  Spumanti Casalini   \n",
      "138                    Prosecco / Glera  Spumanti Casalini   \n",
      "139                    Prosecco / Glera  Spumanti Casalini   \n",
      "140                    Prosecco / Glera  Spumanti Casalini   \n",
      "\n",
      "                                    Produktbezeichnung                 Ort  \\\n",
      "0    Cascina Castlèt Passum Barbera d'Asti D.O.C.G....  Costigliole d'Asti   \n",
      "1        2011 Cascina Castlèt Barbera d'Asti Superiore  Costigliole d'Asti   \n",
      "2    Cascina Castlèt Passum Barbera d'Asti D.O.C.G....  Costigliole d'Asti   \n",
      "3        2011 Cascina Castlèt Barbera d'Asti Superiore  Costigliole d'Asti   \n",
      "4                                                  NaN                 NaN   \n",
      "..                                                 ...                 ...   \n",
      "136                    Weingut Hain Riesling Sekt Brut            Piesport   \n",
      "137  Casalini Prosecco di Valdobbiadene Superiore E...         Colbertaldo   \n",
      "138  Casalini Prosecco di Valdobbiadene Superiore E...         Colbertaldo   \n",
      "139              divino.de Prosecco Spumante Extra Dry         Colbertaldo   \n",
      "140                       divino.de Prosecco Frizzante         Colbertaldo   \n",
      "\n",
      "                                          Passt gut zu Herkunftsland  \\\n",
      "0    Dunkles Fleisch, Wildgeflügel, Hartkäse, Risot...       Italien   \n",
      "1    Dunkles Fleisch, Wildgeflügel, Risotto, Trüffe...       Italien   \n",
      "2    Dunkles Fleisch, Wildgeflügel, Hartkäse, Risot...       Italien   \n",
      "3    Dunkles Fleisch, Wildgeflügel, Risotto, Trüffe...       Italien   \n",
      "4                                                  NaN    Frankreich   \n",
      "..                                                 ...           ...   \n",
      "136                                     Dessert, Sushi   Deutschland   \n",
      "137                                 Risotto, Vorspeise       Italien   \n",
      "138                                 Risotto, Vorspeise       Italien   \n",
      "139                                                NaN       Italien   \n",
      "140                                 Risotto, Vorspeise       Italien   \n",
      "\n",
      "                 Anlass  ...    Region Herstellungsmethode                Art  \\\n",
      "0             Kaminwein  ...   Piemont             Rotwein            Rotwein   \n",
      "1     Allround / Buffet  ...   Piemont             Rotwein            Rotwein   \n",
      "2             Kaminwein  ...   Piemont             Rotwein            Rotwein   \n",
      "3     Allround / Buffet  ...   Piemont             Rotwein            Rotwein   \n",
      "4                   NaN  ...  Gascogne                 NaN           Roséwein   \n",
      "..                  ...  ...       ...                 ...                ...   \n",
      "136  Aperitiv / Empfang  ...     Mosel            Weißwein  Sekt & Champagner   \n",
      "137   Allround / Buffet  ...    Veneto            Prosecco           Prosecco   \n",
      "138   Allround / Buffet  ...    Veneto            Prosecco           Prosecco   \n",
      "139                 NaN  ...    Veneto            Prosecco           Prosecco   \n",
      "140        Terassenwein  ...    Veneto            Prosecco           Prosecco   \n",
      "\n",
      "                                 Lagerfähigkeit Charakteristik  Preis  \\\n",
      "0           trinkbar, aber auch noch lagerfähig        trocken  59,00   \n",
      "1           trinkbar, aber auch noch lagerfähig        trocken  33,00   \n",
      "2           trinkbar, aber auch noch lagerfähig        trocken  26,90   \n",
      "3           trinkbar, aber auch noch lagerfähig        trocken  14,99   \n",
      "4                                           NaN            NaN   5,90   \n",
      "..                                          ...            ...    ...   \n",
      "136  trinkreif, keine weitere Lagerung sinnvoll        trocken  13,90   \n",
      "137  trinkreif, keine weitere Lagerung sinnvoll        trocken  29,00   \n",
      "138  trinkreif, keine weitere Lagerung sinnvoll        trocken  11,99   \n",
      "139  trinkreif, keine weitere Lagerung sinnvoll        trocken  10,50   \n",
      "140  trinkreif, keine weitere Lagerung sinnvoll        trocken   7,50   \n",
      "\n",
      "                                                 Image  \\\n",
      "0    https://www.divino.de/media/image/thumbnail/ge...   \n",
      "1    https://www.divino.de/media/image/thumbnail/50...   \n",
      "2    https://www.divino.de/media/image/thumbnail/ge...   \n",
      "3    https://www.divino.de/media/image/thumbnail/50...   \n",
      "4    https://www.divino.de/media/image/thumbnail/Ga...   \n",
      "..                                                 ...   \n",
      "136  https://www.divino.de/media/image/thumbnail/ge...   \n",
      "137  https://www.divino.de/media/image/thumbnail/ge...   \n",
      "138  https://www.divino.de/media/image/thumbnail/ge...   \n",
      "139  https://www.divino.de/media/image/thumbnail/ge...   \n",
      "140  https://www.divino.de/media/image/thumbnail/ge...   \n",
      "\n",
      "                                           Details-URL  \\\n",
      "0    https://www.divino.de/wein/rotwein/cascina-cas...   \n",
      "1    https://www.divino.de/wein/rotwein/cascina-cas...   \n",
      "2    https://www.divino.de/wein/rotwein/cascina-cas...   \n",
      "3    https://www.divino.de/wein/rotwein/cascina-cas...   \n",
      "4    https://www.divino.de/wein/rotwein/nicolas-duf...   \n",
      "..                                                 ...   \n",
      "136  https://www.divino.de/weingut-hain-riesling-se...   \n",
      "137  https://www.divino.de/prosecco/casalini-prosec...   \n",
      "138  https://www.divino.de/prosecco/casalini-prosec...   \n",
      "139  https://www.divino.de/divino.de-prosecco-d.o.c...   \n",
      "140  https://www.divino.de/divino.de-prosecco-d.o.c...   \n",
      "\n",
      "                                          Beschreibung Seller  \n",
      "0    Dieser Barbera steht in einer Reihe mit Barolo...      2  \n",
      "1    Im Zeichen der drei \"C\": Litina, der köstliche...      2  \n",
      "2    Dieser Barbera steht in einer Reihe mit Barolo...      2  \n",
      "3    Im Zeichen der drei \"C\": Litina, der köstliche...      2  \n",
      "4      Neu bei divino: Die drei Schlingel aus der G...      2  \n",
      "..                                                 ...    ...  \n",
      "136  Feiner Jahrgangssekt mit Reifepotenzial  Bei G...      2  \n",
      "137  \"Cal Busa\" Prosecco di Valdobbiadene D.O.C.G. ...      2  \n",
      "138  \"Cal Busa\" Prosecco di Valdobbiadene D.O.C.G. ...      2  \n",
      "139  Die Spumante-Version meiner Hausmarke - harte ...      2  \n",
      "140  Die divino.de-Hausmarke von Andrea Casalini Pr...      2  \n",
      "\n",
      "[141 rows x 22 columns]\n"
     ]
    }
   ],
   "source": [
    "print(dv.columns)\n",
    "\n",
    "#missing alcohol, reliable winery info\n",
    "\n",
    "cols=['wine_name','wine_country', 'wine_region', 'wine_year', 'wine_type', 'wine_price', 'wine_thumb', 'wine_description', 'wine_url', 'wine_seller']\n",
    "\n",
    "years_temp = getYears(dv['Name'])\n",
    "dv = replaceMissingYears(dv, 'Jahrgang', years_temp)\n",
    "dv['Jahrgang'] = dv['Jahrgang'].map(lambda x: formatYear(x))\n",
    "dv['Art'] = dv['Art'].map(lambda x: updateWineType(x))\n",
    "dv['Preis'] = dv['Preis'].map(lambda x: formatPrice(x))\n",
    "dv['Name'] = dv['Name'].map(lambda x: removeYear(x))\n",
    "#dv['Name'] = dv['Name'].map(lambda x: stripSize(x))\n",
    "dv_new = dv[['Name', 'Herkunftsland', 'Region', 'Jahrgang', 'Art', 'Preis', 'Image', 'Beschreibung', 'Details-URL', 'Seller']]\n",
    "dv_new.columns = cols\n",
    "\n",
    "#house brand again\n",
    "dv_new = dv_new[~dv_new['wine_name'].str.contains('divino.de')]\n",
    "dv_new.applymap(lambda x: x.strip() if isinstance(x, str) else x)\n",
    "dv_new.to_csv('/home/p/wines/winerecommender/data matching/intermediate_results/divino_formatted.csv')\n",
    "\n"
   ]
  },
  {
   "cell_type": "markdown",
   "metadata": {},
   "source": [
    "combine local wines to singular DF/table for DB dump"
   ]
  },
  {
   "cell_type": "code",
   "execution_count": 118,
   "metadata": {},
   "outputs": [
    {
     "name": "stdout",
     "output_type": "stream",
     "text": [
      "(1325, 11)\n"
     ]
    }
   ],
   "source": [
    "local_cols = ['wine_name','wine_country', 'wine_region', 'wine_year', 'wine_type', 'wine_price', 'wine_url', 'wine_thumb', 'wine_description', 'wine_seller']\n",
    "\n",
    "direktimport = pd.read_csv('/home/p/wines/winerecommender/data matching/intermediate_results/direktimport_formatted.csv', encoding='utf-8')\n",
    "divino = pd.read_csv('/home/p/wines/winerecommender/data smatching/intermediate_results/divino_formatted.csv', encoding='utf-8')\n",
    "jacques = pd.read_csv('/home/p/wines/winerecommender/data matching/intermediate_results/jacques_formatted.csv', encoding='utf-8')\n",
    "\n",
    "direktimport[\"wine_name\"] = direktimport[\"wine_winery\"] + ' ' + direktimport[\"wine_name\"]\n",
    "jacques[\"wine_region\"] = None\n",
    "divino = divino[local_cols]\n",
    "direktimport = direktimport[local_cols]\n",
    "jacques = jacques[local_cols]\n",
    "\n",
    "local_df = pd.DataFrame(columns= local_cols)\n",
    "local_df = local_df.append(direktimport)\n",
    "local_df = local_df.append(divino)\n",
    "local_df = local_df.append(jacques)\n",
    "local_df[\"taste_id\"] = None\n",
    "local_df = local_df.dropna(subset=['wine_country'])\n",
    "#local_df.applymap(lambda x: str(x).strip() if isinstance(x, str) else x)\n",
    "print(local_df.shape)\n",
    "\n",
    "local_df.to_csv('/home/p/wines/winerecommender/data matching/intermediate_results/local_wines_formatted.csv')\n"
   ]
  },
  {
   "cell_type": "markdown",
   "metadata": {},
   "source": [
    "# match local data\n",
    "We scraped data from Vivino in multiple iterations due to the present complexity, aiming to achieve sufficient coverage for local wines.\n",
    "These cells were used for the first iteration, in order to determine the amount of required re-scraping to be done based on each vendor's present inventory.\n",
    "Where possible, we matched winery and wine name seperately to increase accuracy, though this was only an option for Wein-Direktimport as both Jacques' and Divino's scraping data proved nigh impossible to work with in this regard. \n",
    "For these cases, the strings were combined to a full wine name. After we increased the size of the vivino dataset with the results of this part, we matched the local ones as one big table, thus it can be skipped and has commented out. However, it will be left here for documentation."
   ]
  },
  {
   "cell_type": "code",
   "execution_count": 15,
   "metadata": {},
   "outputs": [],
   "source": [
    "# import numpy as np\n",
    "# import json\n",
    "# import pandas as pd\n",
    "# import recordlinkage\n",
    "# import re\n",
    "# import datasketch\n",
    "# import fuzzymatcher\n",
    "\n",
    "# vivino = pd.read_csv('/home/p/wines/winerecommender/data matching/intermediate_results/vivino_full.csv', encoding='utf-8')\n",
    "\n",
    "# direktimport = pd.read_csv('/home/p/wines/winerecommender/data matching/intermediate_results/direktimport_formatted.csv', encoding='utf-8')\n",
    "# divino = pd.read_csv('/home/p/wines/winerecommender/data matching/intermediate_results/divino_formatted.csv', encoding='utf-8')\n",
    "# jacques = pd.read_csv('/home/p/wines/winerecommender/data matching/intermediate_results/jacques_formatted.csv', encoding='utf-8')"
   ]
  },
  {
   "cell_type": "markdown",
   "metadata": {},
   "source": [
    "match vivino and direktimport"
   ]
  },
  {
   "cell_type": "code",
   "execution_count": 16,
   "metadata": {},
   "outputs": [
    {
     "ename": "KeyboardInterrupt",
     "evalue": "",
     "output_type": "error",
     "traceback": [
      "\u001b[0;31m---------------------------------------------------------------------------\u001b[0m",
      "\u001b[0;31mKeyboardInterrupt\u001b[0m                         Traceback (most recent call last)",
      "\u001b[0;32m/tmp/ipykernel_29937/1972695561.py\u001b[0m in \u001b[0;36m<module>\u001b[0;34m\u001b[0m\n\u001b[1;32m      3\u001b[0m \u001b[0mdirektimportf\u001b[0m \u001b[0;34m=\u001b[0m \u001b[0mdirektimport\u001b[0m\u001b[0;34m[\u001b[0m\u001b[0mons\u001b[0m\u001b[0;34m]\u001b[0m\u001b[0;34m\u001b[0m\u001b[0;34m\u001b[0m\u001b[0m\n\u001b[1;32m      4\u001b[0m \u001b[0;34m\u001b[0m\u001b[0m\n\u001b[0;32m----> 5\u001b[0;31m \u001b[0mresf_di\u001b[0m \u001b[0;34m=\u001b[0m \u001b[0mfuzzymatcher\u001b[0m\u001b[0;34m.\u001b[0m\u001b[0mfuzzy_left_join\u001b[0m\u001b[0;34m(\u001b[0m\u001b[0mdirektimportf\u001b[0m\u001b[0;34m,\u001b[0m \u001b[0mvivinof_di\u001b[0m\u001b[0;34m,\u001b[0m \u001b[0mons\u001b[0m\u001b[0;34m,\u001b[0m \u001b[0mons\u001b[0m\u001b[0;34m)\u001b[0m\u001b[0;34m\u001b[0m\u001b[0;34m\u001b[0m\u001b[0m\n\u001b[0m\u001b[1;32m      6\u001b[0m \u001b[0mresf_di\u001b[0m\u001b[0;34m.\u001b[0m\u001b[0msort_values\u001b[0m\u001b[0;34m(\u001b[0m\u001b[0;34m'best_match_score'\u001b[0m\u001b[0;34m,\u001b[0m \u001b[0mascending\u001b[0m \u001b[0;34m=\u001b[0m \u001b[0;32mFalse\u001b[0m\u001b[0;34m,\u001b[0m \u001b[0minplace\u001b[0m\u001b[0;34m=\u001b[0m\u001b[0;32mTrue\u001b[0m\u001b[0;34m)\u001b[0m\u001b[0;34m\u001b[0m\u001b[0;34m\u001b[0m\u001b[0m\n\u001b[1;32m      7\u001b[0m \u001b[0mresf_di\u001b[0m\u001b[0;34m.\u001b[0m\u001b[0mto_csv\u001b[0m\u001b[0;34m(\u001b[0m\u001b[0;34m'/home/p/wines/winerecommender/data-matching/fuzzymatch_results/fuzzy_results_di.csv'\u001b[0m\u001b[0;34m)\u001b[0m\u001b[0;34m\u001b[0m\u001b[0;34m\u001b[0m\u001b[0m\n",
      "\u001b[0;32m~/Envs/wines/lib/python3.9/site-packages/fuzzymatcher/__init__.py\u001b[0m in \u001b[0;36mfuzzy_left_join\u001b[0;34m(df_left, df_right, left_on, right_on, left_id_col, right_id_col)\u001b[0m\n\u001b[1;32m     39\u001b[0m     \u001b[0mm\u001b[0m \u001b[0;34m=\u001b[0m \u001b[0mMatcher\u001b[0m\u001b[0;34m(\u001b[0m\u001b[0mdp\u001b[0m\u001b[0;34m,\u001b[0m \u001b[0mdg\u001b[0m\u001b[0;34m,\u001b[0m \u001b[0ms\u001b[0m\u001b[0;34m)\u001b[0m\u001b[0;34m\u001b[0m\u001b[0;34m\u001b[0m\u001b[0m\n\u001b[1;32m     40\u001b[0m     \u001b[0mm\u001b[0m\u001b[0;34m.\u001b[0m\u001b[0madd_data\u001b[0m\u001b[0;34m(\u001b[0m\u001b[0mdf_left\u001b[0m\u001b[0;34m,\u001b[0m \u001b[0mdf_right\u001b[0m\u001b[0;34m,\u001b[0m \u001b[0mleft_on\u001b[0m\u001b[0;34m,\u001b[0m \u001b[0mright_on\u001b[0m\u001b[0;34m,\u001b[0m  \u001b[0mleft_id_col\u001b[0m\u001b[0;34m,\u001b[0m \u001b[0mright_id_col\u001b[0m\u001b[0;34m)\u001b[0m\u001b[0;34m\u001b[0m\u001b[0;34m\u001b[0m\u001b[0m\n\u001b[0;32m---> 41\u001b[0;31m     \u001b[0mm\u001b[0m\u001b[0;34m.\u001b[0m\u001b[0mmatch_all\u001b[0m\u001b[0;34m(\u001b[0m\u001b[0;34m)\u001b[0m\u001b[0;34m\u001b[0m\u001b[0;34m\u001b[0m\u001b[0m\n\u001b[0m\u001b[1;32m     42\u001b[0m \u001b[0;34m\u001b[0m\u001b[0m\n\u001b[1;32m     43\u001b[0m     \u001b[0;32mreturn\u001b[0m \u001b[0mm\u001b[0m\u001b[0;34m.\u001b[0m\u001b[0mget_left_join_table\u001b[0m\u001b[0;34m(\u001b[0m\u001b[0;34m)\u001b[0m\u001b[0;34m\u001b[0m\u001b[0;34m\u001b[0m\u001b[0m\n",
      "\u001b[0;32m~/Envs/wines/lib/python3.9/site-packages/fuzzymatcher/matcher.py\u001b[0m in \u001b[0;36mmatch_all\u001b[0;34m(self)\u001b[0m\n\u001b[1;32m     82\u001b[0m         \u001b[0mself\u001b[0m\u001b[0;34m.\u001b[0m\u001b[0mdata_preprocessor\u001b[0m\u001b[0;34m.\u001b[0m\u001b[0mpreprocess\u001b[0m\u001b[0;34m(\u001b[0m\u001b[0;34m)\u001b[0m\u001b[0;34m\u001b[0m\u001b[0;34m\u001b[0m\u001b[0m\n\u001b[1;32m     83\u001b[0m \u001b[0;34m\u001b[0m\u001b[0m\n\u001b[0;32m---> 84\u001b[0;31m         \u001b[0mself\u001b[0m\u001b[0;34m.\u001b[0m\u001b[0minitiate_records\u001b[0m\u001b[0;34m(\u001b[0m\u001b[0;34m)\u001b[0m\u001b[0;34m\u001b[0m\u001b[0;34m\u001b[0m\u001b[0m\n\u001b[0m\u001b[1;32m     85\u001b[0m \u001b[0;34m\u001b[0m\u001b[0m\n\u001b[1;32m     86\u001b[0m         \u001b[0;31m# Scorer first because some data getters may need to score records on add_data\u001b[0m\u001b[0;34m\u001b[0m\u001b[0;34m\u001b[0m\u001b[0;34m\u001b[0m\u001b[0m\n",
      "\u001b[0;32m~/Envs/wines/lib/python3.9/site-packages/fuzzymatcher/matcher.py\u001b[0m in \u001b[0;36minitiate_records\u001b[0;34m(self)\u001b[0m\n\u001b[1;32m     70\u001b[0m         \u001b[0mcols\u001b[0m\u001b[0;34m.\u001b[0m\u001b[0mappend\u001b[0m\u001b[0;34m(\u001b[0m\u001b[0;34m\"__id_right\"\u001b[0m\u001b[0;34m)\u001b[0m\u001b[0;34m\u001b[0m\u001b[0;34m\u001b[0m\u001b[0m\n\u001b[1;32m     71\u001b[0m         \u001b[0mdf\u001b[0m \u001b[0;34m=\u001b[0m \u001b[0mself\u001b[0m\u001b[0;34m.\u001b[0m\u001b[0mdf_right\u001b[0m\u001b[0;34m[\u001b[0m\u001b[0mcols\u001b[0m\u001b[0;34m]\u001b[0m\u001b[0;34m\u001b[0m\u001b[0;34m\u001b[0m\u001b[0m\n\u001b[0;32m---> 72\u001b[0;31m         \u001b[0;32mfor\u001b[0m \u001b[0mr\u001b[0m \u001b[0;32min\u001b[0m \u001b[0mdf\u001b[0m\u001b[0;34m.\u001b[0m\u001b[0miterrows\u001b[0m\u001b[0;34m(\u001b[0m\u001b[0;34m)\u001b[0m\u001b[0;34m:\u001b[0m\u001b[0;34m\u001b[0m\u001b[0;34m\u001b[0m\u001b[0m\n\u001b[0m\u001b[1;32m     73\u001b[0m             \u001b[0mrow\u001b[0m \u001b[0;34m=\u001b[0m \u001b[0mr\u001b[0m\u001b[0;34m[\u001b[0m\u001b[0;36m1\u001b[0m\u001b[0;34m]\u001b[0m\u001b[0;34m\u001b[0m\u001b[0;34m\u001b[0m\u001b[0m\n\u001b[1;32m     74\u001b[0m             \u001b[0mfields_dict\u001b[0m \u001b[0;34m=\u001b[0m \u001b[0mdict\u001b[0m\u001b[0;34m(\u001b[0m\u001b[0mrow\u001b[0m\u001b[0;34m[\u001b[0m\u001b[0mself\u001b[0m\u001b[0;34m.\u001b[0m\u001b[0mright_on\u001b[0m\u001b[0;34m]\u001b[0m\u001b[0;34m)\u001b[0m\u001b[0;34m\u001b[0m\u001b[0;34m\u001b[0m\u001b[0m\n",
      "\u001b[0;32m~/Envs/wines/lib/python3.9/site-packages/pandas/core/frame.py\u001b[0m in \u001b[0;36miterrows\u001b[0;34m(self)\u001b[0m\n\u001b[1;32m   1261\u001b[0m         \u001b[0mklass\u001b[0m \u001b[0;34m=\u001b[0m \u001b[0mself\u001b[0m\u001b[0;34m.\u001b[0m\u001b[0m_constructor_sliced\u001b[0m\u001b[0;34m\u001b[0m\u001b[0;34m\u001b[0m\u001b[0m\n\u001b[1;32m   1262\u001b[0m         \u001b[0;32mfor\u001b[0m \u001b[0mk\u001b[0m\u001b[0;34m,\u001b[0m \u001b[0mv\u001b[0m \u001b[0;32min\u001b[0m \u001b[0mzip\u001b[0m\u001b[0;34m(\u001b[0m\u001b[0mself\u001b[0m\u001b[0;34m.\u001b[0m\u001b[0mindex\u001b[0m\u001b[0;34m,\u001b[0m \u001b[0mself\u001b[0m\u001b[0;34m.\u001b[0m\u001b[0mvalues\u001b[0m\u001b[0;34m)\u001b[0m\u001b[0;34m:\u001b[0m\u001b[0;34m\u001b[0m\u001b[0;34m\u001b[0m\u001b[0m\n\u001b[0;32m-> 1263\u001b[0;31m             \u001b[0ms\u001b[0m \u001b[0;34m=\u001b[0m \u001b[0mklass\u001b[0m\u001b[0;34m(\u001b[0m\u001b[0mv\u001b[0m\u001b[0;34m,\u001b[0m \u001b[0mindex\u001b[0m\u001b[0;34m=\u001b[0m\u001b[0mcolumns\u001b[0m\u001b[0;34m,\u001b[0m \u001b[0mname\u001b[0m\u001b[0;34m=\u001b[0m\u001b[0mk\u001b[0m\u001b[0;34m)\u001b[0m\u001b[0;34m\u001b[0m\u001b[0;34m\u001b[0m\u001b[0m\n\u001b[0m\u001b[1;32m   1264\u001b[0m             \u001b[0;32myield\u001b[0m \u001b[0mk\u001b[0m\u001b[0;34m,\u001b[0m \u001b[0ms\u001b[0m\u001b[0;34m\u001b[0m\u001b[0;34m\u001b[0m\u001b[0m\n\u001b[1;32m   1265\u001b[0m \u001b[0;34m\u001b[0m\u001b[0m\n",
      "\u001b[0;32m~/Envs/wines/lib/python3.9/site-packages/pandas/core/series.py\u001b[0m in \u001b[0;36m__init__\u001b[0;34m(self, data, index, dtype, name, copy, fastpath)\u001b[0m\n\u001b[1;32m    441\u001b[0m                 \u001b[0mmanager\u001b[0m \u001b[0;34m=\u001b[0m \u001b[0mget_option\u001b[0m\u001b[0;34m(\u001b[0m\u001b[0;34m\"mode.data_manager\"\u001b[0m\u001b[0;34m)\u001b[0m\u001b[0;34m\u001b[0m\u001b[0;34m\u001b[0m\u001b[0m\n\u001b[1;32m    442\u001b[0m                 \u001b[0;32mif\u001b[0m \u001b[0mmanager\u001b[0m \u001b[0;34m==\u001b[0m \u001b[0;34m\"block\"\u001b[0m\u001b[0;34m:\u001b[0m\u001b[0;34m\u001b[0m\u001b[0;34m\u001b[0m\u001b[0m\n\u001b[0;32m--> 443\u001b[0;31m                     \u001b[0mdata\u001b[0m \u001b[0;34m=\u001b[0m \u001b[0mSingleBlockManager\u001b[0m\u001b[0;34m.\u001b[0m\u001b[0mfrom_array\u001b[0m\u001b[0;34m(\u001b[0m\u001b[0mdata\u001b[0m\u001b[0;34m,\u001b[0m \u001b[0mindex\u001b[0m\u001b[0;34m)\u001b[0m\u001b[0;34m\u001b[0m\u001b[0;34m\u001b[0m\u001b[0m\n\u001b[0m\u001b[1;32m    444\u001b[0m                 \u001b[0;32melif\u001b[0m \u001b[0mmanager\u001b[0m \u001b[0;34m==\u001b[0m \u001b[0;34m\"array\"\u001b[0m\u001b[0;34m:\u001b[0m\u001b[0;34m\u001b[0m\u001b[0;34m\u001b[0m\u001b[0m\n\u001b[1;32m    445\u001b[0m                     \u001b[0mdata\u001b[0m \u001b[0;34m=\u001b[0m \u001b[0mSingleArrayManager\u001b[0m\u001b[0;34m.\u001b[0m\u001b[0mfrom_array\u001b[0m\u001b[0;34m(\u001b[0m\u001b[0mdata\u001b[0m\u001b[0;34m,\u001b[0m \u001b[0mindex\u001b[0m\u001b[0;34m)\u001b[0m\u001b[0;34m\u001b[0m\u001b[0;34m\u001b[0m\u001b[0m\n",
      "\u001b[0;32m~/Envs/wines/lib/python3.9/site-packages/pandas/core/internals/managers.py\u001b[0m in \u001b[0;36mfrom_array\u001b[0;34m(cls, array, index)\u001b[0m\n\u001b[1;32m   1572\u001b[0m         \u001b[0mConstructor\u001b[0m \u001b[0;32mfor\u001b[0m \u001b[0;32mif\u001b[0m \u001b[0mwe\u001b[0m \u001b[0mhave\u001b[0m \u001b[0man\u001b[0m \u001b[0marray\u001b[0m \u001b[0mthat\u001b[0m \u001b[0;32mis\u001b[0m \u001b[0;32mnot\u001b[0m \u001b[0myet\u001b[0m \u001b[0ma\u001b[0m \u001b[0mBlock\u001b[0m\u001b[0;34m.\u001b[0m\u001b[0;34m\u001b[0m\u001b[0;34m\u001b[0m\u001b[0m\n\u001b[1;32m   1573\u001b[0m         \"\"\"\n\u001b[0;32m-> 1574\u001b[0;31m         \u001b[0mblock\u001b[0m \u001b[0;34m=\u001b[0m \u001b[0mnew_block\u001b[0m\u001b[0;34m(\u001b[0m\u001b[0marray\u001b[0m\u001b[0;34m,\u001b[0m \u001b[0mplacement\u001b[0m\u001b[0;34m=\u001b[0m\u001b[0mslice\u001b[0m\u001b[0;34m(\u001b[0m\u001b[0;36m0\u001b[0m\u001b[0;34m,\u001b[0m \u001b[0mlen\u001b[0m\u001b[0;34m(\u001b[0m\u001b[0mindex\u001b[0m\u001b[0;34m)\u001b[0m\u001b[0;34m)\u001b[0m\u001b[0;34m,\u001b[0m \u001b[0mndim\u001b[0m\u001b[0;34m=\u001b[0m\u001b[0;36m1\u001b[0m\u001b[0;34m)\u001b[0m\u001b[0;34m\u001b[0m\u001b[0;34m\u001b[0m\u001b[0m\n\u001b[0m\u001b[1;32m   1575\u001b[0m         \u001b[0;32mreturn\u001b[0m \u001b[0mcls\u001b[0m\u001b[0;34m(\u001b[0m\u001b[0mblock\u001b[0m\u001b[0;34m,\u001b[0m \u001b[0mindex\u001b[0m\u001b[0;34m)\u001b[0m\u001b[0;34m\u001b[0m\u001b[0;34m\u001b[0m\u001b[0m\n\u001b[1;32m   1576\u001b[0m \u001b[0;34m\u001b[0m\u001b[0m\n",
      "\u001b[0;32m~/Envs/wines/lib/python3.9/site-packages/pandas/core/internals/blocks.py\u001b[0m in \u001b[0;36mnew_block\u001b[0;34m(values, placement, ndim, klass)\u001b[0m\n\u001b[1;32m   1938\u001b[0m \u001b[0;34m\u001b[0m\u001b[0m\n\u001b[1;32m   1939\u001b[0m     \u001b[0;32mif\u001b[0m \u001b[0mklass\u001b[0m \u001b[0;32mis\u001b[0m \u001b[0;32mNone\u001b[0m\u001b[0;34m:\u001b[0m\u001b[0;34m\u001b[0m\u001b[0;34m\u001b[0m\u001b[0m\n\u001b[0;32m-> 1940\u001b[0;31m         \u001b[0mklass\u001b[0m \u001b[0;34m=\u001b[0m \u001b[0mget_block_type\u001b[0m\u001b[0;34m(\u001b[0m\u001b[0mvalues\u001b[0m\u001b[0;34m,\u001b[0m \u001b[0mvalues\u001b[0m\u001b[0;34m.\u001b[0m\u001b[0mdtype\u001b[0m\u001b[0;34m)\u001b[0m\u001b[0;34m\u001b[0m\u001b[0;34m\u001b[0m\u001b[0m\n\u001b[0m\u001b[1;32m   1941\u001b[0m \u001b[0;34m\u001b[0m\u001b[0m\n\u001b[1;32m   1942\u001b[0m     \u001b[0mvalues\u001b[0m \u001b[0;34m=\u001b[0m \u001b[0mmaybe_coerce_values\u001b[0m\u001b[0;34m(\u001b[0m\u001b[0mvalues\u001b[0m\u001b[0;34m)\u001b[0m\u001b[0;34m\u001b[0m\u001b[0;34m\u001b[0m\u001b[0m\n",
      "\u001b[0;32m~/Envs/wines/lib/python3.9/site-packages/pandas/core/internals/blocks.py\u001b[0m in \u001b[0;36mget_block_type\u001b[0;34m(values, dtype)\u001b[0m\n\u001b[1;32m   1909\u001b[0m     \u001b[0mcls\u001b[0m\u001b[0;34m:\u001b[0m \u001b[0mtype\u001b[0m\u001b[0;34m[\u001b[0m\u001b[0mBlock\u001b[0m\u001b[0;34m]\u001b[0m\u001b[0;34m\u001b[0m\u001b[0;34m\u001b[0m\u001b[0m\n\u001b[1;32m   1910\u001b[0m \u001b[0;34m\u001b[0m\u001b[0m\n\u001b[0;32m-> 1911\u001b[0;31m     \u001b[0;32mif\u001b[0m \u001b[0mis_sparse\u001b[0m\u001b[0;34m(\u001b[0m\u001b[0mdtype\u001b[0m\u001b[0;34m)\u001b[0m\u001b[0;34m:\u001b[0m\u001b[0;34m\u001b[0m\u001b[0;34m\u001b[0m\u001b[0m\n\u001b[0m\u001b[1;32m   1912\u001b[0m         \u001b[0;31m# Need this first(ish) so that Sparse[datetime] is sparse\u001b[0m\u001b[0;34m\u001b[0m\u001b[0;34m\u001b[0m\u001b[0;34m\u001b[0m\u001b[0m\n\u001b[1;32m   1913\u001b[0m         \u001b[0mcls\u001b[0m \u001b[0;34m=\u001b[0m \u001b[0mExtensionBlock\u001b[0m\u001b[0;34m\u001b[0m\u001b[0;34m\u001b[0m\u001b[0m\n",
      "\u001b[0;32m~/Envs/wines/lib/python3.9/site-packages/pandas/core/dtypes/common.py\u001b[0m in \u001b[0;36mis_sparse\u001b[0;34m(arr)\u001b[0m\n\u001b[1;32m    230\u001b[0m     \u001b[0mReturns\u001b[0m\u001b[0;31m \u001b[0m\u001b[0;31m`\u001b[0m\u001b[0;32mFalse\u001b[0m\u001b[0;31m`\u001b[0m \u001b[0;32mif\u001b[0m \u001b[0mthe\u001b[0m \u001b[0mparameter\u001b[0m \u001b[0mhas\u001b[0m \u001b[0mmore\u001b[0m \u001b[0mthan\u001b[0m \u001b[0mone\u001b[0m \u001b[0mdimension\u001b[0m\u001b[0;34m.\u001b[0m\u001b[0;34m\u001b[0m\u001b[0;34m\u001b[0m\u001b[0m\n\u001b[1;32m    231\u001b[0m     \"\"\"\n\u001b[0;32m--> 232\u001b[0;31m     \u001b[0;32mfrom\u001b[0m \u001b[0mpandas\u001b[0m\u001b[0;34m.\u001b[0m\u001b[0mcore\u001b[0m\u001b[0;34m.\u001b[0m\u001b[0marrays\u001b[0m\u001b[0;34m.\u001b[0m\u001b[0msparse\u001b[0m \u001b[0;32mimport\u001b[0m \u001b[0mSparseDtype\u001b[0m\u001b[0;34m\u001b[0m\u001b[0;34m\u001b[0m\u001b[0m\n\u001b[0m\u001b[1;32m    233\u001b[0m \u001b[0;34m\u001b[0m\u001b[0m\n\u001b[1;32m    234\u001b[0m     \u001b[0mdtype\u001b[0m \u001b[0;34m=\u001b[0m \u001b[0mgetattr\u001b[0m\u001b[0;34m(\u001b[0m\u001b[0marr\u001b[0m\u001b[0;34m,\u001b[0m \u001b[0;34m\"dtype\"\u001b[0m\u001b[0;34m,\u001b[0m \u001b[0marr\u001b[0m\u001b[0;34m)\u001b[0m\u001b[0;34m\u001b[0m\u001b[0;34m\u001b[0m\u001b[0m\n",
      "\u001b[0;32m/usr/lib/python3.9/importlib/_bootstrap.py\u001b[0m in \u001b[0;36m_handle_fromlist\u001b[0;34m(module, fromlist, import_, recursive)\u001b[0m\n",
      "\u001b[0;31mKeyboardInterrupt\u001b[0m: "
     ]
    }
   ],
   "source": [
    "# ons = ['wine_name', 'wine_winery', 'wine_country', 'wine_region', 'wine_type']\n",
    "# vivinof_di = vivino[ons]\n",
    "# direktimportf = direktimport[ons]\n",
    "\n",
    "# resf_di = fuzzymatcher.fuzzy_left_join(direktimportf, vivinof_di, ons, ons)\n",
    "# resf_di.sort_values('best_match_score', ascending = False, inplace=True)\n",
    "# resf_di.to_csv('/home/p/wines/winerecommender/data matching/initial_fuzz/fuzzy_results_di.csv')"
   ]
  },
  {
   "cell_type": "markdown",
   "metadata": {},
   "source": [
    "this resulted in about 170 usable matches, the rest needed to be rescraped. "
   ]
  },
  {
   "cell_type": "code",
   "execution_count": 13,
   "metadata": {},
   "outputs": [],
   "source": [
    "# X = 170\n",
    "# resf_di['search'] = resf_di['wine_winery_left'] +' '+ resf_di['wine_name_left']\n",
    "# resf_di['index'] = list(range(len(resf_di['search'])))\n",
    "# resf_di.set_index('index', inplace=True)\n",
    "# strings = list(resf_di['search'][X:])\n",
    "# ids = list(resf_di['__id_left'].map(lambda x: x.split('_')[0])[X:])\n",
    "# i=0\n",
    "# out = []\n",
    "# for string in strings:\n",
    "#     out.append({\n",
    "#         \"local_id\": ids[i],\n",
    "#         \"search_string\": string\n",
    "#     })\n",
    "#     i+=1\n",
    "\n",
    "# with open(\"/home/p/wines/winerecommender/data matching/initial_fuzz/rescrape/search_di.json\", \"w\") as f:\n",
    "#     f.write(json.dumps(out))"
   ]
  },
  {
   "cell_type": "markdown",
   "metadata": {},
   "source": [
    "match vivino and divino"
   ]
  },
  {
   "cell_type": "code",
   "execution_count": 15,
   "metadata": {},
   "outputs": [],
   "source": [
    "# vivino[\"full_name\"] = vivino[\"wine_winery\"] + ' ' + vivino[\"wine_name\"]\n",
    "# ons = ['full_name', 'wine_country', 'wine_region', 'wine_type']\n",
    "# vivinof_dv = vivino[ons]\n",
    "# divino[\"full_name\"] = divino[\"wine_name\"]\n",
    "# divinof = divino[ons]\n",
    "# resf_dv = fuzzymatcher.fuzzy_left_join(divinof, vivinof_dv, ons, ons)\n",
    "# resf_dv.sort_values('best_match_score', ascending = False, inplace=True)\n",
    "# resf_dv.to_csv('/home/p/wines/winerecommender/data matching/initial_results/fuzzy_results_dv.csv')\n"
   ]
  },
  {
   "cell_type": "markdown",
   "metadata": {},
   "source": [
    "this resulted in approx. 9 usable matches, with the rest needing rescraping"
   ]
  },
  {
   "cell_type": "code",
   "execution_count": 18,
   "metadata": {},
   "outputs": [],
   "source": [
    "# x = 9\n",
    "# resf_dv['search'] = resf_dv['full_name_left']\n",
    "# resf_dv['index'] = list(range(len(resf_dv['search'])))\n",
    "# resf_dv.set_index('index', inplace=True)\n",
    "# strings = list(resf_dv['search'][x:])\n",
    "# ids = list(resf_dv['__id_left'].map(lambda x: x.split('_')[0])[x:])\n",
    "# i=0\n",
    "# out = []\n",
    "# for string in strings:\n",
    "#     out.append({\n",
    "#         \"local_id\": ids[i],\n",
    "#         \"search_string\": string\n",
    "#     })\n",
    "#     i+=1\n",
    "\n",
    "# with open(\"/home/p/wines/winerecommender/data matching/initial_fuzz/rescrape/search_dv.json\", \"w\") as f:\n",
    "#     f.write(json.dumps(out))"
   ]
  },
  {
   "cell_type": "markdown",
   "metadata": {},
   "source": [
    "match jacques and vivino"
   ]
  },
  {
   "cell_type": "code",
   "execution_count": 25,
   "metadata": {},
   "outputs": [],
   "source": [
    "# vivino[\"full_name\"] = vivino[\"wine_winery\"] + ' ' + vivino[\"wine_name\"]\n",
    "# ons = ['full_name', 'wine_country', 'wine_type']\n",
    "# jacques[\"full_name\"] = jacques[\"wine_name\"]\n",
    "# vivinof_j = vivino[ons]\n",
    "# jacquef = jacques[ons]\n",
    "# resf_j = fuzzymatcher.fuzzy_left_join(jacquef, vivinof_j, ons, ons)\n",
    "# resf_j.sort_values('best_match_score', ascending = False, inplace=True)\n",
    "# resf_j.to_csv('/home/p/wines/winerecommender/data matching/initial_results/fuzzy_results_j.csv')\n"
   ]
  },
  {
   "cell_type": "markdown",
   "metadata": {},
   "source": [
    "this resulted in 25 usable matches, with the rest needing rescraping"
   ]
  },
  {
   "cell_type": "code",
   "execution_count": 26,
   "metadata": {},
   "outputs": [],
   "source": [
    "# x = 25\n",
    "# resf_j['search'] = resf_j['full_name_left']\n",
    "# resf_j['index'] = list(range(len(resf_j['search'])))\n",
    "# resf_j.set_index('index', inplace=True)\n",
    "# strings = list(resf_j['search'][x:])\n",
    "# ids = list(resf_j['__id_left'].map(lambda x: x.split('_')[0])[x:])\n",
    "# i=0\n",
    "# out = []\n",
    "# for string in strings:\n",
    "#     out.append({\n",
    "#         \"local_id\": ids[i],\n",
    "#         \"search_string\": string\n",
    "#     })\n",
    "#     i+=1\n",
    "\n",
    "# with open(\"/home/p/wines/winerecommender/data matching/initial_fuzz/rescrape/search_j.json\", \"w\") as f:\n",
    "#     f.write(json.dumps(out))"
   ]
  },
  {
   "cell_type": "markdown",
   "metadata": {},
   "source": [
    "# remove duplicates in local set\n",
    "Note: some vendors have wines available in different sizes. In terms of this evaluation, the same wine from the same year is the same wine, no matter what - we will thus remove duplicate entries matching on Seller, Country, Region, and Year exactly, and on Name with a 90% threshold and some additional checks for sizing indicators. Experimentally using lower thresholds led to an overly aggressive removal of non-duplicated wines, thus a 0.9 threshold on name was zeroed in on.\n"
   ]
  },
  {
   "cell_type": "code",
   "execution_count": 8,
   "metadata": {},
   "outputs": [],
   "source": [
    "# returns true if any known size indicators are matched\n",
    "def stripSize(x):\n",
    "    first = x\n",
    "    try:\n",
    "        x = re.sub('\\(?\\d,\\d{1,3}\\s*(\\S+)\\)?', '' ,str(x)).strip()\n",
    "        x = re.sub('(Magnum)?(flasche)?', '', x).strip()\n",
    "        x = x.replace('Doppelmagnum', '').strip()\n",
    "        x = x.replace('Doppelmagum', '').strip()\n",
    "        x = re.sub('\\d{1,3}\\s*(m)?[lL](iter)?', '', x).strip()\n",
    "        x = re.sub('.?[gG]oldkapsel.?', '', x).strip()\n",
    "        x = re.sub('.?[gG]OLDKAPSEL.?', '', x).strip()\n",
    "        x = re.sub('.Magum.?', '', x).strip()\n",
    "    except Exception as e:\n",
    "        print(e)\n",
    "    return (first != x)"
   ]
  },
  {
   "cell_type": "code",
   "execution_count": 6,
   "metadata": {},
   "outputs": [
    {
     "name": "stdout",
     "output_type": "stream",
     "text": [
      "WARNING:recordlinkage:indexing - performance warning - A full index can result in large number of record pairs.\n"
     ]
    }
   ],
   "source": [
    "#match duplicates with blocks\n",
    "import recordlinkage\n",
    "local = pd.read_csv('/home/p/wines/winerecommender/data matching/intermediate_results/local_wines_formatted.csv')\n",
    "indexer = recordlinkage.Index()\n",
    "indexer.full()\n",
    "indexer.block([\"wine_country\", \"wine_type\", \"wine_region\", \"wine_seller\"])\n",
    "candidate_links = indexer.index(local)\n",
    "\n",
    "compare = recordlinkage.Compare()\n",
    "compare.string(\"wine_name\", \"wine_name\", method=\"jarowinkler\", threshold = 0.9, label=\"wine_name\")\n",
    "compare.exact(\"wine_country\", \"wine_country\", label=\"wine_country\")\n",
    "compare.exact(\"wine_type\", \"wine_type\", label=\"wine_type\")\n",
    "compare.exact(\"wine_region\", \"wine_region\", label=\"wine_region\")\n",
    "compare.exact(\"wine_seller\", \"wine_seller\", label=\"wine_seller\")\n",
    "#compare.exact(\"wine_description\", \"wine_description\", label = \"wine_description\")\n",
    "\n",
    "compute = compare.compute(candidate_links, local)\n",
    "duplicates = compute[compute.sum(axis=1)>4]\n"
   ]
  },
  {
   "cell_type": "code",
   "execution_count": 9,
   "metadata": {},
   "outputs": [
    {
     "name": "stdout",
     "output_type": "stream",
     "text": [
      "127\n",
      "(1325, 12)\n",
      "(1198, 12)\n"
     ]
    }
   ],
   "source": [
    "#get the set of matched ids\n",
    "seen = set()\n",
    "ids = []\n",
    "for item in duplicates.index:\n",
    "    for index in item:\n",
    "        if index not in seen:\n",
    "            seen.add(index)\n",
    "            ids.append(index)\n",
    "\n",
    "\n",
    "ids = sorted(ids)\n",
    "#remove only those with size delimiters in name            \n",
    "filtered_ids = [x for x in ids if stripSize(local.loc[x][\"wine_name\"])]\n",
    "print(len(filtered_ids))\n",
    "# for x in filtered_ids:\n",
    "#     print((x, local.loc[x][\"wine_name\"]))\n",
    "print(local.shape)\n",
    "local_drops = local.loc[~local.index.isin(filtered_ids)]\n",
    "print(local_drops.shape)"
   ]
  },
  {
   "cell_type": "code",
   "execution_count": 122,
   "metadata": {},
   "outputs": [],
   "source": [
    "local_drops.to_csv('/home/p/wines/winerecommender/data matching/intermediate_results/local_wines_deduplicated.csv')"
   ]
  },
  {
   "cell_type": "markdown",
   "metadata": {},
   "source": [
    "# match full table after rescraping\n",
    "After scraping more wines from vivino, we look to match as many wines as possible between out local set and our vivino set."
   ]
  },
  {
   "cell_type": "code",
   "execution_count": 13,
   "metadata": {},
   "outputs": [],
   "source": [
    "import fuzzymatcher\n",
    "\n",
    "local = pd.read_csv('/home/p/wines/winerecommender/data matching/local_wines_deduplicated.csv')\n",
    "vivino = pd.read_csv('/home/p/wines/winerecommender/data matching/intermediate_results/vivino_full.csv', encoding='utf-8')\n",
    "vivino[\"wine_name\"] = vivino[\"wine_winery\"] + ' ' + vivino[\"wine_name\"]\n",
    "vivino.set_index(\"wine_id\")\n",
    "ons = ['wine_name', 'wine_country', 'wine_type']\n",
    "\n",
    "resf = fuzzymatcher.fuzzy_left_join(local, vivino, ons, ons)\n",
    "local[\"taste_id\"] = list(resf[\"wine_id\"])\n",
    "resf.sort_values('best_match_score', ascending = False, inplace=True)\n",
    "resf.to_csv('/home/p/wines/winerecommender/data-matching/fuzzy_results_all.csv')\n",
    "local.to_csv('/home/p/wines/winerecommender/data-matching/local_wines_matched.csv')\n",
    "\n",
    "\n",
    "\n"
   ]
  }
 ],
 "metadata": {
  "interpreter": {
   "hash": "1fac22538c550b66a54000c2a952ff08543f66e1a3ae1f3c7728a21b2430cdf6"
  },
  "kernelspec": {
   "display_name": "Python 3 (ipykernel)",
   "language": "python",
   "name": "python3"
  },
  "language_info": {
   "codemirror_mode": {
    "name": "ipython",
    "version": 3
   },
   "file_extension": ".py",
   "mimetype": "text/x-python",
   "name": "python",
   "nbconvert_exporter": "python",
   "pygments_lexer": "ipython3",
   "version": "3.9.2"
  }
 },
 "nbformat": 4,
 "nbformat_minor": 4
}
