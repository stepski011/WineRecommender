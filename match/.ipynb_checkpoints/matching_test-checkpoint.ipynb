{
 "cells": [
  {
   "cell_type": "code",
   "execution_count": 2,
   "metadata": {},
   "outputs": [],
   "source": [
    "import numpy as np\n",
    "import json\n",
    "import pandas as pd\n",
    "import recordlinkage\n",
    "import re"
   ]
  },
  {
   "cell_type": "code",
   "execution_count": 3,
   "metadata": {},
   "outputs": [],
   "source": [
    "with open('/home/p/wines/winerecommender/Script - Data Extraction/wine_data.json') as f:\n",
    "    vivino_data = json.load(f)\n",
    "\n",
    "\n",
    "df = pd.read_excel('/home/p/wines/winerecommender/Scraping/Data Sources - scraped/Wines-FinalDS.xlsx')\n",
    "\n",
    "jacques = pd.read_csv('/home/p/wines/winerecommender/Scraping/jacques.de/jacques_wines.csv', encoding='utf-8')\n"
   ]
  },
  {
   "cell_type": "code",
   "execution_count": 145,
   "metadata": {},
   "outputs": [],
   "source": [
    "\n",
    "## DO NOT USE, extracted regions and formatted alcohol\n",
    "\n",
    "def getInfoJacques(series):\n",
    "\n",
    "    regions = []\n",
    "    for item in series:\n",
    "        temp = re.sub(' +', ' ',item.replace(\"\\xa0\", \"\").strip()).split('\\n\\n')\n",
    "        try:\n",
    "            region.append(temp[0].split(', ')[1].strip())\n",
    "        except:\n",
    "            region.append('')\n",
    "    return region\n",
    "\n",
    "# jacques[\"Region\"]=getInfoJacques(jacques.Name)\n",
    "\n",
    "# print(jacques[\"Region\"])\n",
    "\n",
    "\n",
    "# jac2 = pd.read_csv('/home/p/wines/winerecommender/Scraping/jacques.de/jacques_wines.csv')\n",
    "\n",
    "# jac2['wine_region'] = jacques['Region']\n",
    "# jac2['wine_alcohol'] = jac2['wine_alcohol'].map(lambda x: x.replace('%',''))\n",
    "\n",
    "#jacques.to_csv('/home/p/wines/winerecommender/Scraping/jacques.de/jacques_wines.csv')\n",
    "\n",
    "\n",
    "    "
   ]
  },
  {
   "cell_type": "code",
   "execution_count": 24,
   "metadata": {},
   "outputs": [
    {
     "name": "stdout",
     "output_type": "stream",
     "text": [
      "Index(['Name:', 'Hersteller:', 'Erzeugnis aus:', 'Region:', 'Wein:',\n",
      "       'Jahrgang:', 'Rebsorte:', 'Qualität:', 'Alkohol in %:', 'Geschmack:',\n",
      "       'Allergene:', 'Ausbauart:', 'Trinktemperatur in °C:',\n",
      "       'Trinkempfehlung:', 'Verschluß:', 'Auszeichnungen:', 'Paßt zu:',\n",
      "       'Lage:', 'Boden:', 'Essen:', 'Herstellung:', 'Dekantieren:',\n",
      "       'Säure g/l:', 'Restzucker g/l:', 'Produkt aus biologischem Anbau:',\n",
      "       'Biokontrollstelle:', 'Diverses:', 'Zutaten:', 'Verkäufer:',\n",
      "       'Verkostungsnotiz:', 'Unnamed: 30', 'Unnamed: 31', 'price'],\n",
      "      dtype='object') Index(['Unnamed: 0', 'wine_id', 'wine_name', 'wine_year', 'wine_type',\n",
      "       'wine_price', 'Beschreibung', 'wine_alcohol', 'wine_tastes',\n",
      "       'wine_country', 'wine_region', 'wine_seller'],\n",
      "      dtype='object')\n",
      "                                             wine_name  wine_country  \\\n",
      "0    Château Sansonnet   2019 Château Sansonnet Sai...   Frankreich    \n",
      "1    Cà dei Frati   2015 Amarone della Valpolicella...      Italien    \n",
      "2    Cà dei Frati   2019 Ronchedone Rosso Benaco Be...      Italien    \n",
      "3    Domaine de la Janasse   2020 Côtes du Rhône Vi...   Frankreich    \n",
      "4    Domaine de la Janasse   2020 Côtes du Rhône rouge   Frankreich    \n",
      "..                                                 ...           ...   \n",
      "952        2021 Domaine Girard Garriguette Rosé I.G.P.    Frankreich   \n",
      "953  2019 Weingut Hain Spätburgunder Blanc de Noir ...   Deutschland   \n",
      "954  2020 Grand Veneur Côtes du Rhône A.C. Rosé \"Be...    Frankreich   \n",
      "955                   2018 Bagordi Rosado D.O.C. Rioja       Spanien   \n",
      "956          2015 Specogna Pinot Grigio Venezia Giulia       Italien   \n",
      "\n",
      "                   wine_region wine_year wine_type  wine_price wine_alcohol  \\\n",
      "0                     Bordeaux      2019       red           0        13.5    \n",
      "1                    Lombardei      2015       red           0        16.0    \n",
      "2                    Lombardei      2019       red           0        14.0    \n",
      "3                        Rhône      2020       red           0        14.5    \n",
      "4                        Rhône      2020       red           0        14.5    \n",
      "..                         ...       ...       ...         ...          ...   \n",
      "952       Languedoc-Roussillon      2020      rosé           0          NaN   \n",
      "953                      Mosel      2019      rosé           0          NaN   \n",
      "954             Côtes du Rhône      2019      rosé           0          NaN   \n",
      "955                      Rioja       NaN      rosé           0          NaN   \n",
      "956  Friaul - Julisch Venetien      2015      rosé           0          NaN   \n",
      "\n",
      "    wine_seller  \n",
      "0             1  \n",
      "1             1  \n",
      "2             1  \n",
      "3             1  \n",
      "4             1  \n",
      "..          ...  \n",
      "952           2  \n",
      "953           2  \n",
      "954           2  \n",
      "955           2  \n",
      "956           2  \n",
      "\n",
      "[957 rows x 8 columns]\n"
     ]
    }
   ],
   "source": [
    "print(df.columns, jacques.columns)\n",
    "\n",
    "cols=['wine_name', 'wine_country', 'wine_region', 'wine_year', 'wine_type', 'wine_price', 'wine_alcohol', 'wine_seller']\n",
    "\n",
    "matching_df = pd.DataFrame(columns=cols)\n",
    "df['Region:'] = df['Region:'].map(lambda x: str(x).strip().split(', ')[0])\n",
    "df['Wein:'] = df['Wein:'].map(lambda x: updateWineType(x))\n",
    "df['price'] = 0\n",
    "df['Name:'] = df['Name:'].map(lambda x: x.strip())\n",
    "df_new = df[['Name:', 'Erzeugnis aus:', 'Region:', 'Jahrgang:', 'Wein:', 'price', 'Alkohol in %:', 'Verkäufer:']]\n",
    "df_new.columns = cols\n",
    "print(df_new)\n",
    "jacques_new=jacques[['wine_name', 'wine_country', 'wine_region','wine_year', 'wine_type', 'wine_price', 'wine_alcohol','wine_seller']]\n",
    "matching_df = matching_df.append(df_new)\n",
    "matching_df= matching_df.append(jacques_new)\n",
    "\n",
    "matching_df.to_csv('/home/p/wines/winerecommender/data-matching/matching_table.csv')\n",
    "\n",
    "\n"
   ]
  },
  {
   "cell_type": "code",
   "execution_count": 9,
   "metadata": {},
   "outputs": [],
   "source": [
    "def getRegionSet(array):\n",
    "    seen = set()\n",
    "    regions = []\n",
    "    for region in array:\n",
    "        region = str(region).strip().split(', ')[0]\n",
    "        if region not in seen:\n",
    "            seen.add(region)\n",
    "            regions.append(region)\n",
    "    return regions\n",
    "\n",
    "regions = getRegionSet(jacques['wine_region']) + getRegionSet(df['Region:'])\n",
    "\n",
    "vivreg = [wine['wine_region'] for wine in vivino_data]\n",
    "\n",
    "vivino_regions = getRegionSet(vivreg)\n",
    "\n"
   ]
  },
  {
   "cell_type": "code",
   "execution_count": 11,
   "metadata": {},
   "outputs": [
    {
     "name": "stdout",
     "output_type": "stream",
     "text": [
      "['Abruzzo', 'Aconcagua', 'Aconcagua Valley', 'Adelaide Hills', 'Aglianico del Vulture', 'Agrelo', 'Ahr', 'Aigle', 'Alella', 'Alenquer', 'Alentejano', 'Alentejo', 'Alexander Valley', 'Alghero', 'Alicante', 'Almansa', 'Almeirim', 'Aloxe-Corton', 'Alsace Grand Cru', \"Alsace Grand Cru 'Brand'\", \"Alsace Grand Cru 'Kirchberg de Barr'\", \"Alsace Grand Cru 'Kitterle'\", \"Alsace Grand Cru 'Rosacker'\", 'Amarone della Valpolicella', 'Amarone della Valpolicella Classico', 'Amarone della Valpolicella Valpantena', 'Amyndeon', 'Ancient Lakes of Columbia Valley', 'Andalucía', 'Anjou', 'Apalta Valley', 'Arabako Txakolina', 'Aragón', 'Arbois', 'Ardèche', 'Arroyo Seco', 'Atesino delle Venezie', 'Atlantique', 'Aude', 'Baden', 'Bairrada', 'Balaton', 'Bandol', 'Banghoek', 'Barbaresco', \"Barbera d'Alba\", \"Barbera d'Asti\", 'Barbera del Monferrato', 'Barbera del Monferrato Superiore', 'Barco Reale di Carmignano', 'Bardolino', 'Bardolino Classico', 'Bardolino Superiore', 'Barolo', 'Barossa', 'Barossa Valley', 'Basilicata', 'Beaujolais', 'Beaujolais-Villages', 'Beaune', 'Beaune Premier Cru', 'Beiras', 'Bekaa Valley', 'Benaco Bresciano', 'Berg Karmel', 'Bernkastel', 'Bianchello del Metauro', 'Bianco di Custoza', 'Bierzo', 'Biferno', 'Binissalem-Mallorca', 'Blaye - Côtes de Bordeaux', 'Bolgheri', 'Bolgheri Sassicaia', 'Bolgheri Superiore', 'Borba', 'Bordeaux', 'Bordeaux Sec', 'Bordeaux Supérieur', 'Bot River', 'Bourgogne', 'Bourgogne Aligoté', 'Bourgogne Côte Saint-Jacques', 'Bourgogne Hautes-Côtes de Beaune', 'Bourgogne Hautes-Côtes de Nuits', 'Bouzéron', 'Brauneberg', 'Breede River Valley', 'Breedekloof', 'Breganze', 'Brindisi', 'Brunello di Montalcino', 'Bucelas', 'Burgenland', 'Buzet', 'Cachapoal Valley', 'Cadillac - Côtes de Bordeaux', 'Cafayate Valley', 'Cahors', 'Cairanne', 'Calatayud', 'Calchaqui Valley', 'Campania', 'Campo de Borja', 'Campo de la Guardia', 'Cannonau di Sardegna', 'Cape Agulhas', 'Cape Point', 'Cape South Coast', 'Cape Town', 'Carignano del Sulcis', 'Cariñena', 'Carmignano', 'Carnuntum', 'Casablanca Valley', 'Castel del Monte', 'Castilla', 'Castilla y León', 'Castillon - Côtes de Bordeaux', 'Catalunya', 'Cederberg', 'Central Coast', 'Central Otago', 'Central Valley', 'Cerro Chapeu', 'Chablis', \"Chablis 1er Cru 'Côte de Lechet'\", \"Chablis 1er Cru 'Fourchaume'\", \"Chablis 1er Cru 'Les Fourneaux'\", \"Chablis 1er Cru 'Mont de Milieu'\", \"Chablis 1er Cru 'Montee de Tonnerre'\", \"Chablis 1er Cru 'Montmains'\", \"Chablis 1er Cru 'Vaillons'\", \"Chablis 1er Cru 'Vau de Vey'\", 'Chablis Grand Cru', \"Chablis Grand Cru 'Blanchot'\", \"Chablis Grand Cru 'La Moutonne'\", \"Chablis Grand Cru 'Les Clos'\", \"Chablis Grand Cru 'Preuses'\", 'Chablis Premier Cru', 'Chalk Hill', 'Chassagne-Montrachet', 'Cheverny', 'Chianti', 'Chianti Classico', 'Chianti Colli Fiorentini', 'Chianti Colli Senesi', 'Chianti Rùfina', 'Chinon', 'Châteauneuf-du-Pape', 'Cigales', 'Cirò', 'Cite de Carcassonne', 'Citrusdal Mountain', \"Civitella d'Agliano\", 'Clairette de Languedoc', 'Clare Valley', 'Colchagua Valley', 'Colli Berici', 'Colli Martani', 'Colli Orientali del Friuli', 'Colli Pesaresi', 'Colli Tortonesi', 'Colli del Limbara', 'Colli della Toscana Centrale', 'Colli di Luni', 'Colli di Salerno', 'Colline Pescaresi', 'Colline Teatine', 'Collines Rhodaniennes', 'Collio', 'Collioure', 'Columbia Valley', 'Comté Tolosan', 'Conca de Barberà', 'Condrieu', 'Constantia', 'Contea di Sclafani', 'Contessa Entellina', 'Contra Costa County', 'Coonawarra', 'Copertino', 'Corbières', 'Corbières Boutenac', 'Cornas', 'Corton-Charlemagne Grand Cru', 'Cortona', 'Costa Toscana', \"Costa d'Amalfi\", 'Costers del Segre', 'Costières-de-Nîmes', 'Coteaux Bourguignons', 'Coteaux de Narbonne', 'Crozes-Hermitage', 'Curico Valley', 'Curtefranca', 'Cádiz', 'Côte de Beaune', 'Côte de Nuits Villages', 'Côte-Rôtie', 'Côtes Catalanes', 'Côtes de Bordeaux', 'Côtes de Bourg', 'Côtes de Gascogne', 'Côtes de Grevenmacher', 'Côtes de Provence', 'Côtes de Thau', 'Côtes de Thongue', 'Côtes du Lot', 'Côtes du Roussillon', 'Côtes du Roussillon Villages', 'Côtes du Tarn', 'Côtes-du-Rhône', 'Côtes-du-Rhône-Villages', \"Côtes-du-Rhône-Villages 'Plan de Dieu'\", \"Côtes-du-Rhône-Villages 'Sablet'\", 'Dalmatinische Küste', 'Darling', 'Dealurile Olteniei', 'Deidesheim', 'Dogliani', 'Dolceacqua', \"Dolcetto d'Alba\", 'Dominio de Valdepusa', 'Douro', 'Douro Superior', 'Drama', 'Dry Creek Valley', 'Dundee Hills', 'Durbanville', 'Duriense', 'Dão', 'Eden Valley', 'Edna Valley', 'Elgin', 'Elim', 'Elsass', 'Emilia-Romagna', 'Empordà', 'Encruzilhada do Sul', 'Entre-deux-Mers (zwischen zwei Meeren)', 'Epanomi', 'Erbaluce di Caluso', 'Est! Est!! Est!!! di Montefiascone', 'Evora', 'Extremadura', 'Falanghina del Beneventano', 'Falanghina del Sannio', 'Falerio Pecorino', 'Faro', 'Faugères', 'Fiano de Avellino', 'Fleurie', 'Florina', 'Franken', 'Franschhoek', 'Frascati', 'Friuli', 'Friuli Grave', 'Friuli Isonzo', 'Friuli-Venezia Giulia', 'Fronsac', 'Fronton', 'Galicia', 'Galilee', 'Gard', 'Garda', 'Gascogne', 'Gattinara', 'Gavi', 'Getariako Txakolina', 'Gevrey-Chambertin', 'Gigondas', 'Gioia del Colle', \"Givry 1er Cru 'Cellier aux Moines'\", 'Givry Premier Cru', 'Gladstone', 'Goumenissa', 'Graach', 'Graves', 'Greco di Tufo', \"Grignolino d'Asti\", 'Grignolino del Monferrato Casalese', 'Groenekloof', 'Gualtallary', 'Guyenne', 'Haut-Médoc', \"Hawke's Bay\", 'Hemel-en-Aarde Valley', 'Hermitage', 'Hessische Bergstraße', 'Horse Heaven Hills', 'Hunter Valley', 'Hérault', 'Ica', 'Irpinia', 'Irpinia Campi Taurasini', 'Ischia', 'Isola dei Nuraghi', 'Istrien', 'Itata Valley', 'Jonkershoek Valley', 'Jumilla', 'Jura', 'Kakheti', 'Kalabrien', 'Kalifornien', 'Kamptal', 'Knights Valley', 'Kremstal', 'Küstenregion', 'La Clape', 'La Consulta', 'La Mancha', \"Lacrima di Morro d'Alba\", 'Ladoix', \"Ladoix 1er Cru 'Le Rognet et Corton'\", 'Lago di Caldaro', 'Lago di Corbara', 'Lalande-de-Pomerol', 'Langhe', 'Langhorne Creek', 'Languedoc', 'Languedoc-Roussillon', 'Lanzarote', 'Lazio', 'Leiwen', 'Lemesos', 'Lessona', 'Leyda Valley', 'Libournais', 'Liguria', 'Limarí Valley', 'Limoux', 'Lirac', 'Lison-Pramaggiore', 'Lissabon', 'Listrac-Médoc', 'Livermore Valley', 'Lizzano', 'Lodi', 'Lombardia', 'Long Island', 'Lontue Valley', 'Los Carneros', 'Luberon', 'Lugana', 'Lujan de Cuyo', 'Lussac-Saint-Émilion', 'Luxemburg', 'Madeirense', 'Madiran', 'Madrid', 'Maipo Valley', 'Maipu', 'Maldonado', 'Mallorca', 'Manchuela', 'Mantinia', 'Marche', 'Maremma Toscana', 'Margaret River', 'Margaux', 'Markopoulo', 'Marlborough', 'Marmilla test', 'Martinborough', 'Maule Valley', 'Mazedonien', 'McLaren Vale', 'Mendocino County', 'Mendoza', 'Menetou-Salon', 'Menfi', 'Mercurey', 'Meursault', 'Minervois', 'Minho', 'Mittelburgenland', 'Mittelrhein', 'Molise', 'Monferrato', 'Monica di Sardegna', 'Montagne-Saint-Émilion', 'Montagny Premier Cru', 'Montecarlo', 'Montecucco', 'Montefalco', 'Montefalco Sagrantino', 'Montello e Colli Asolani', \"Montepulciano d'Abruzzo\", \"Montepulciano d'Abruzzo Colline Teramane\", 'Monterey', 'Monterey County', 'Monterrei', 'Montevideo', 'Montlouis-sur-Loire', 'Montsant', 'Monção e Melgaço', 'Morellino di Scansano', 'Morgon', 'Moscadello di Montalcino', \"Moscato d'Asti\", 'Mosel', 'Moulin-à-Vent', 'Moulis-en-Médoc', 'Mukuzani', 'Murcia', 'Muscadet-Sevre et Maine', 'Mâcon-Bussières', 'Mâcon-Chaintré', 'Mâcon-Chardonnay', 'Mâcon-Fuissé', 'Mâcon-La Roche-Vineuse', 'Mâcon-Lugny', 'Mâcon-Milly-Lamartine', 'Mâcon-Uchizy', 'Mâcon-Villages', 'Méditerranée', 'Médoc', 'Méntrida', 'Nahe', 'Naoussa', 'Napa County', 'Napa Valley', 'Nardò', 'Navarra', \"Nebbiolo d'Alba\", 'Nelson', 'Neusiedlersee', 'Neusiedlersee-Hügelland', 'Niagara Peninsula', 'Niagara-on-the-Lake', 'Niederösterreich', 'Nierstein', 'Nizza', 'North Coast', 'North Island', 'Noto', 'Nuits-Saint-Georges', 'Nuragus di Cagliari', 'Oakville', 'Obere Loire', 'Ockfen', 'Offida', 'Oltrepò Pavese', 'Ontario', 'Oregon', 'Ortona', 'Orvieto', 'Orvieto Classico', 'Otazu', 'Overberg', 'Paarl', 'Pacherenc du Vic-Bilh Sec', 'Pagadebit di Romagna', 'Pago Florentino', 'Palette', 'Palmela', 'Pangeon', 'Paso Robles', 'Patagonia', 'Pauillac', \"Pays d'Oc\", 'Pazardjik', 'Peloponnesos', 'Penedès', 'Península de Setúbal', 'Pessac-Léognan', 'Petit Chablis', 'Peumo', 'Pfalz', 'Pic-Saint-Loup', 'Pico', 'Picpoul de Pinet', 'Piemont', 'Piesport', 'Pla de Bages', 'Plà i Llevant', 'Pomerol', 'Pomino', 'Pommard', 'Pouilly-Fuissé', 'Pouilly-Fumé', 'Pouilly-Loché', 'Pouilly-Sur-Loire', 'Pouilly-Vinzelles', 'Primitivo di Manduria', 'Priorat', 'Provence', 'Puente Alto', 'Puglia', 'Puisseguin-Saint-Émilion', 'Puligny-Montrachet', 'Pécharmant', 'Rapel Valley', 'Rasteau', 'Ravenna', 'Recas', 'Republik Moldau', 'Rheingau', 'Rheinhessen', 'Rhone Valley', 'Ribatejo', 'Ribeiro', 'Ribera del Duero', 'Ribera del Queiles', 'Rioja', 'Rioja Alavesa', 'Rioja Alta', 'Riverina', 'Robertson', 'Roccamonfina', 'Roero', 'Rosazzo', 'Rosso Conero', 'Rosso Piceno', 'Rosso Veronese', 'Rosso di Montalcino', 'Rosso di Montepulciano', 'Rubicone', 'Rueda', 'Rully', 'Russian River Valley', 'Rutherford', 'Rías Baixas', 'Rüdesheim', 'Saale-Unstrut', 'Sachsen', 'Saint-Aubin', 'Saint-Chinian', 'Saint-Drézéry', 'Saint-Estèphe', 'Saint-Georges d’Orques', 'Saint-Guilhem-le-Desert', 'Saint-Joseph', 'Saint-Julien', 'Saint-Mont', 'Saint-Péray', 'Saint-Véran', 'Saint-Émilion', 'Saint-Émilion Grand Cru', 'Salento', 'Salice Salentino', 'Salina', 'Salta', 'San Gimignano', 'San Juan', 'San Rafael', 'Sancerre', 'Sangiovese di Romagna', 'Sannio', \"Sant'Antimo\", 'Santa Barbara County', 'Santa Lucia Highlands', 'Santa Maria Valley', 'Santenay', \"Santenay 1er Cru 'Beauregard'\", 'Santorin', 'Sardegna', 'Sardón de Duero', 'Saumur', 'Savennières', 'Savennières-Coulée-de-Serrant', \"Savigny-lès-Beaune 1er Cru 'Aux Guettes'\", 'Savigny-lès-Beaune Premier Cru', 'Savoie', 'Sebino', 'Sforzato della Valtellina', 'Sierras de Málaga', 'Simonsberg-Stellenbosch', 'Sizilien', 'Slopes of Paiko', 'Soave', 'Soave Classico', 'Somontano', 'Sonoma Coast', 'Sonoma County', 'Sonoma Valley', 'South Australia', 'South Eastern', 'Sovana', 'Sta. Rita Hills', 'Steiermark', 'Stellenbosch', 'Suisun Valley', 'Swartland', 'Südburgenland', 'Südliche Rhône', 'Südost-Australien', 'Südsteiermark', 'Südtirol - Alto Adige', 'Taburno', 'Taurasi', 'Tejo', 'Teroldego Rotaliano', 'Terra Alta', 'Terrasses du Larzac', 'Terre Siciliane', 'Terre degli Osci', 'Terre di Chieti', 'Tharros', 'Thermenregion', 'Thessaloniki', 'Thracian Valley', 'Tokaj', 'Torgiano', 'Torgiano Rosso Riserva', 'Toro', 'Toscana', 'Touraine', 'Touraine-Amboise', 'Traisental', 'Transylvania', \"Trebbiano d'Abruzzo\", 'Trentino', 'Trentino-Alto Adige', 'Trás-os-Montes', 'Tunuyán', 'Tupungato', 'Tygerberg', 'Uclés', 'Uco Valley', 'Umbrien', 'Utiel-Requena', 'Vacqueyras', 'Val de Loire', 'Val di Neto', 'Valais', 'Valdadige', 'Valdadige Terradeiforti', 'Valdejalón', 'Valdeorras', 'Valdepeñas', 'Vale dos Vinhedos', 'Valencia', \"Valle D'aosta\", 'Valle Isarco', \"Valle d'Itria\", 'Valle de Guadalupe', 'Valle del Cinca', 'Valle del Tirso', 'Vallee du Paradis', 'Valli di Porto Pino', 'Valpolicella', 'Valpolicella Classico', 'Valpolicella Ripasso', 'Valpolicella Ripasso Classico', 'Valtellina', 'Valtellina Superiore', 'Var', 'Vaucluse', 'Vayots Dzor', 'Veneto', 'Venezia', 'Venezia Giulia', 'Ventoux', 'Verdicchio dei Castelli di Jesi', 'Verdicchio dei Castelli di Jesi Riserva', 'Verdicchio di Matelica', 'Verdicchio di Matelica Riserva', 'Vermentino di Gallura', 'Vermentino di Sardegna', 'Vernaccia di San Gimignano', 'Verona', 'Victoria', 'Vigneti delle Dolomiti', 'Vin de France', 'Vin de Pays', 'Vinho Verde', 'Vino Nobile di Montepulciano', \"Vino d'Italia\", 'Vino de España', 'Vins des Allobroges', 'Vinsobres', 'Viré-Clessé', 'Vistalba', 'Volnay', 'Vouvray', 'Wachau', 'Wagram', 'Waiheke Island', 'Waipara', 'Walker Bay', 'Washington', 'Wawern', 'Wehlen', 'Weinland', 'Weinviertel', 'Wellington', 'Western Cape', 'Wien', 'Wiener Gemischter Satz', 'Willamette Valley', 'Wiltingen', 'Württemberg', 'Yecla', 'Zeltingen', 'das Loiretal', 'delle Venezie', 'Ätna', 'Štajerska']\n",
      "_______________________________\n",
      "['Abruzzen', 'Abruzzen', 'Aconcagua', 'Alexander Valley', 'Apulien', 'Apulien', 'Baden', 'Baden', 'Basilikata', 'Bordeaux', 'Bordeaux', 'Bordeaux Supérieur', 'Bourgogne', 'Burgenland', 'Burgenland', 'Burgund', 'Burgund', 'Bündner Herrschaft', 'Castilla', 'Champagne', 'Châteauneuf-du-Pape', 'Coastal Region', 'Coquimbo', 'Côtes du Rhône', 'Douro', 'Dry Creek Valley', 'Elsass', 'Emilia-Romagna', 'Franken', 'Franken', 'Friaul', 'Friaul - Julisch Venetien', 'Galicien', 'Gascogne', 'Graubünden', 'Jura', 'Kalifornien', 'Kamptal', 'Kastilien-La Mancha', 'Kastilien-León', 'Kastilien-Léon', 'Katalonien', 'La Rioja', 'Languedoc', 'Languedoc', 'Languedoc-Roussillon', 'Loire', 'Loiretal', 'Lombardei', 'Lombardei', 'Manduria', 'Maremma', 'Marken', 'Mendoza', 'Mittelrhein', 'Mosel', 'Mosel', 'Nahe', 'Nahe', 'Napa Valley', 'Navarra', 'Niederösterreich', 'Niederösterreich', 'Nordhessen', 'Pfalz', 'Pfalz', 'Piemont', 'Piemont', 'Provence', 'Rheingau', 'Rheingau', 'Rheinhessen', 'Rheinhessen', 'Rhône', 'Rhônetal', 'Ribera del Duero', 'Rioja', 'Roussillon', 'Roussillon', 'Rueda', 'Saar', 'Santa Cruz Montains', 'Sizilien', 'Sizilien', 'South Australia', 'South Eastern Australia', 'Steiermark', 'Stellenbosch', 'Südtirol/Alto Adige', 'Südwesten', 'Tarragona', 'Toro', 'Toscana', 'Toskana', 'Toskana', 'Transsilvanien', 'Trentino-Südtirol', 'Umbrien', 'Valencia', 'Valle Central', 'Valles de Benavente', 'Venetien', 'Veneto', 'Wachau', 'Wagram', 'Washington State', 'Weinviertel DAC', 'Western Cape', 'Württemberg', 'Yecla', 'nan', 'nan']\n"
     ]
    }
   ],
   "source": [
    "print(sorted(vivino_regions))\n",
    "print('_______________________________')\n",
    "print(sorted(regions))\n"
   ]
  },
  {
   "cell_type": "code",
   "execution_count": 22,
   "metadata": {},
   "outputs": [
    {
     "name": "stdout",
     "output_type": "stream",
     "text": [
      "0       red\n",
      "1       red\n",
      "2       red\n",
      "3       red\n",
      "4       red\n",
      "       ... \n",
      "952    rosé\n",
      "953    rosé\n",
      "954    rosé\n",
      "955    rosé\n",
      "956    rosé\n",
      "Name: Wein:, Length: 957, dtype: object\n"
     ]
    }
   ],
   "source": [
    "def updateWineType(t):\n",
    "    switch = {\n",
    "        'Rotwein': 'red',\n",
    "        'Weißwein': 'white',\n",
    "        'Weisswein': 'white',\n",
    "        'Roséwein': 'rosé',\n",
    "        'red': 'red',\n",
    "        'white': 'white',\n",
    "        'rosé': 'rosé'\n",
    "    }\n",
    "\n",
    "    try: \n",
    "        return switch.get(t.replace(',','').strip().split(' ')[0], 'sparkling')\n",
    "    except:\n",
    "        return \n",
    "    \n",
    "\n",
    "\n",
    "tdf = df\n",
    "tdf['Wein:'] = tdf['Wein:'].map(lambda t: updateWineType(t))\n",
    "\n",
    "print(tdf['Wein:'])"
   ]
  },
  {
   "cell_type": "code",
   "execution_count": 179,
   "metadata": {},
   "outputs": [
    {
     "name": "stdout",
     "output_type": "stream",
     "text": [
      "red\n"
     ]
    },
    {
     "data": {
      "text/plain": [
       "'red'"
      ]
     },
     "execution_count": 179,
     "metadata": {},
     "output_type": "execute_result"
    }
   ],
   "source": [
    "print(df['Wein:'][0])\n",
    "updateWineType(df['Wein:'][0])"
   ]
  }
 ],
 "metadata": {
  "interpreter": {
   "hash": "1fac22538c550b66a54000c2a952ff08543f66e1a3ae1f3c7728a21b2430cdf6"
  },
  "kernelspec": {
   "display_name": "Python 3.9.2 64-bit ('wines': venv)",
   "language": "python",
   "name": "python3"
  },
  "language_info": {
   "codemirror_mode": {
    "name": "ipython",
    "version": 3
   },
   "file_extension": ".py",
   "mimetype": "text/x-python",
   "name": "python",
   "nbconvert_exporter": "python",
   "pygments_lexer": "ipython3",
   "version": "3.9.2"
  },
  "orig_nbformat": 4
 },
 "nbformat": 4,
 "nbformat_minor": 2
}
