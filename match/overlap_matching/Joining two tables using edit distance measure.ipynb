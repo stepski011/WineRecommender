{
 "cells": [
  {
   "cell_type": "markdown",
   "metadata": {},
   "source": [
    "This quickstart guide explains how to join two tables A and B using edit distance measure. First, you need to import the required packages as follows (if you have installed **py_stringsimjoin** it will automatically install the dependencies **py_stringmatching** and **pandas**):"
   ]
  },
  {
   "cell_type": "code",
   "execution_count": null,
   "metadata": {},
   "outputs": [],
   "source": [
    "# Import libraries\n",
    "import py_stringsimjoin as ssj\n",
    "import py_stringmatching as sm\n",
    "import pandas as pd\n",
    "import os, sys"
   ]
  },
  {
   "cell_type": "code",
   "execution_count": null,
   "metadata": {},
   "outputs": [],
   "source": [
    "print('python version: ' + sys.version)\n",
    "print('py_stringsimjoin version: ' + ssj.__version__)\n",
    "print('py_stringmatching version: ' + sm.__version__)\n",
    "print('pandas version: ' + pd.__version__)"
   ]
  },
  {
   "cell_type": "markdown",
   "metadata": {},
   "source": [
    "Joining two tables using edit distance measure typically consists of three steps:\n",
    "1. Loading the input tables\n",
    "2. Profiling the tables\n",
    "3. Performing the join"
   ]
  },
  {
   "cell_type": "markdown",
   "metadata": {},
   "source": [
    "# 1. Loading the input tables"
   ]
  },
  {
   "cell_type": "markdown",
   "metadata": {},
   "source": [
    "We begin by loading the two tables. For the purpose of this guide, \n",
    "we use the sample dataset that comes with the package. "
   ]
  },
  {
   "cell_type": "code",
   "execution_count": null,
   "metadata": {},
   "outputs": [],
   "source": [
    "# construct the path of the tables to be loaded. Since we are loading a \n",
    "# dataset from the package, we need to access the data from the path \n",
    "# where the package is installed. If you need to load your own data, you can directly\n",
    "# provide your table path to the read_csv command.\n",
    "\n",
    "table_A_path = \"C:/Users/zoran/Desktop/W1.csv\"\n",
    "table_B_path = \"C:/Users/zoran/Desktop/W2.csv\""
   ]
  },
  {
   "cell_type": "code",
   "execution_count": null,
   "metadata": {},
   "outputs": [],
   "source": [
    "# Load csv files as dataframes.\n",
    "A = pd.read_csv(table_A_path)\n",
    "B = pd.read_csv(table_B_path)\n",
    "print('Number of records in A: ' + str(len(A)))\n",
    "print('Number of records in B: ' + str(len(B)))"
   ]
  },
  {
   "cell_type": "code",
   "execution_count": null,
   "metadata": {},
   "outputs": [],
   "source": [
    "A"
   ]
  },
  {
   "cell_type": "code",
   "execution_count": null,
   "metadata": {},
   "outputs": [],
   "source": [
    "B"
   ]
  },
  {
   "cell_type": "markdown",
   "metadata": {},
   "source": [
    "# 2. Profiling the tables"
   ]
  },
  {
   "cell_type": "markdown",
   "metadata": {},
   "source": [
    "Before performing the join, we may want to profile the tables to \n",
    "know about the characteristics of the attributes. This can help identify:\n",
    "\n",
    "a) unique attributes in the table which can be used as key attribute when performing \n",
    "   the join. A key attribute is needed to uniquely identify a tuple. \n",
    "   \n",
    "b) the number of missing values present in each attribute. This can \n",
    "   help you in deciding the attribute on which to perform the join. \n",
    "   For example, an attribute with a lot of missing values may not be a good \n",
    "   join attribute. Further, based on the missing value information you \n",
    "   need to decide on how to handle missing values when performing the join \n",
    "   (See the section below on 'Handling missing values' to know more about\n",
    "   the options available for handling missing values when performing the join).\n",
    "   \n",
    "You can profile the attributes in a table using the following command:"
   ]
  },
  {
   "cell_type": "code",
   "execution_count": null,
   "metadata": {},
   "outputs": [],
   "source": [
    "# profile attributes in table A\n",
    "ssj.profile_table_for_join(A)"
   ]
  },
  {
   "cell_type": "code",
   "execution_count": null,
   "metadata": {},
   "outputs": [],
   "source": [
    "# profile attributes in table B\n",
    "ssj.profile_table_for_join(B)"
   ]
  },
  {
   "cell_type": "markdown",
   "metadata": {},
   "source": [
    "If the input tables does not contain any key attribute, then you need \n",
    "to create a key attribute. In the current example, both the input tables\n",
    "A and B have key attributes, and hence you can proceed to the next step.\n",
    "In the case the table does not have any key attribute, you can \n",
    "add a key attribute using the following command:"
   ]
  },
  {
   "cell_type": "code",
   "execution_count": null,
   "metadata": {},
   "outputs": [],
   "source": [
    "B['new_key_attr'] = range(0, len(B))\n",
    "B"
   ]
  },
  {
   "cell_type": "markdown",
   "metadata": {},
   "source": [
    "For the purpose of this guide, we will now join tables A and B on \n",
    "'name' attribute using edit distance measure. Next, we need to decide on what \n",
    "threshold to use for the join. For this guide, we will use a threshold of 5. \n",
    "Specifically, the join will now find tuple pairs from A and B such that \n",
    "the edit distance over the 'name' attributes is at most 5."
   ]
  },
  {
   "cell_type": "markdown",
   "metadata": {},
   "source": [
    "# 3. Performing the join"
   ]
  },
  {
   "cell_type": "markdown",
   "metadata": {},
   "source": [
    "The next step is to perform the edit distance join using the following command:"
   ]
  },
  {
   "cell_type": "code",
   "execution_count": null,
   "metadata": {},
   "outputs": [],
   "source": [
    "# find all pairs from A and B such that the edit distance\n",
    "# on 'name' is at most 5.\n",
    "# l_out_attrs and r_out_attrs denote the attributes from the \n",
    "# left table (A) and right table (B) that need to be included in the output.\n",
    "\n",
    "output_pairs = ssj.edit_distance_join(A, B, 'ID', 'ID', 'Name:', 'Name:', 20,\n",
    "                                      l_out_attrs=['Name:'], r_out_attrs=['Name:'])"
   ]
  },
  {
   "cell_type": "code",
   "execution_count": null,
   "metadata": {},
   "outputs": [],
   "source": [
    "len(output_pairs)"
   ]
  },
  {
   "cell_type": "code",
   "execution_count": null,
   "metadata": {},
   "outputs": [],
   "source": [
    "# examine the output pairs\n",
    "output_pairs"
   ]
  },
  {
   "cell_type": "markdown",
   "metadata": {},
   "source": [
    "# Handling missing values"
   ]
  },
  {
   "cell_type": "markdown",
   "metadata": {
    "collapsed": true
   },
   "source": [
    "By default, pairs with missing values are not included\n",
    "in the output. This is because a string with a missing value\n",
    "can potentially match with all strings in the other table and \n",
    "hence the number of output pairs can become huge. If you want \n",
    "to include pairs with missing value in the output, you need to \n",
    "set the **allow_missing** flag to True, as shown below:"
   ]
  },
  {
   "cell_type": "code",
   "execution_count": null,
   "metadata": {},
   "outputs": [],
   "source": [
    "output_pairs = ssj.edit_distance_join(A, B, 'A.ID', 'B.ID', 'A.Name:', 'B.Name:', 5, allow_missing=True,\n",
    "                                      l_out_attrs=['A.name'], r_out_attrs=['B.name'])"
   ]
  },
  {
   "cell_type": "code",
   "execution_count": null,
   "metadata": {},
   "outputs": [],
   "source": [
    "output_pairs"
   ]
  },
  {
   "cell_type": "markdown",
   "metadata": {},
   "source": [
    "# Enabling parallel processing"
   ]
  },
  {
   "cell_type": "markdown",
   "metadata": {},
   "source": [
    "If you have multiple cores which you want to exploit for performing the \n",
    "join, you need to use the **n_jobs** option. If n_jobs is -1, all CPUs \n",
    "are used. If 1 is given, no parallel computing code is used at all, \n",
    "which is useful for debugging and is the default option. For n_jobs below \n",
    "-1, (n_cpus + 1 + n_jobs) are used (where n_cpus is the total number of \n",
    "CPUs in the machine). Thus for n_jobs = -2, all CPUs but one are used. If \n",
    "(n_cpus + 1 + n_jobs) becomes less than 1, then no parallel computing code \n",
    "will be used (i.e., equivalent to the default).\n",
    "\n",
    "The following command exploits all the cores available to perform the join:"
   ]
  },
  {
   "cell_type": "code",
   "execution_count": null,
   "metadata": {},
   "outputs": [],
   "source": [
    "output_pairs = ssj.edit_distance_join(A, B, 'A.ID', 'B.ID', 'A.Name:', 'B.Name:', 5,\n",
    "                                      l_out_attrs=['A.name'], r_out_attrs=['B.name'], n_jobs=-1)"
   ]
  },
  {
   "cell_type": "code",
   "execution_count": null,
   "metadata": {},
   "outputs": [],
   "source": [
    "len(output_pairs)"
   ]
  },
  {
   "cell_type": "markdown",
   "metadata": {},
   "source": [
    "You need to set n_jobs to 1 when you are debugging or you do not want \n",
    "to use any parallel computing code. If you want to execute the join as \n",
    "fast as possible, you need to set n_jobs to -1 which will exploit all \n",
    "the CPUs in your machine. In case there are other concurrent processes \n",
    "running in your machine and you do not want to halt them, then you may \n",
    "need to set n_jobs to a value below -1."
   ]
  },
  {
   "cell_type": "markdown",
   "metadata": {},
   "source": [
    "# Performing join on numeric attributes"
   ]
  },
  {
   "cell_type": "markdown",
   "metadata": {},
   "source": [
    "The join method expects the join attributes to be of string type. \n",
    "If you need to perform the join over numeric attributes, then you need \n",
    "to first convert the attributes to string type and then perform the join.\n",
    "For example, if you need to join 'A.zipcode' in table A with 'B.zipcode' in\n",
    "table B, you need to first convert the attributes to string type using \n",
    "the following command:"
   ]
  },
  {
   "cell_type": "code",
   "execution_count": null,
   "metadata": {},
   "outputs": [],
   "source": [
    "ssj.dataframe_column_to_str(A, 'A.zipcode', inplace=True)\n",
    "ssj.dataframe_column_to_str(B, 'B.zipcode', inplace=True)"
   ]
  },
  {
   "cell_type": "markdown",
   "metadata": {},
   "source": [
    "Note that the above command preserves the NaN values while converting the numeric column to string type. Next, you can perform the join as shown below:"
   ]
  },
  {
   "cell_type": "code",
   "execution_count": null,
   "metadata": {},
   "outputs": [],
   "source": [
    "output_pairs = ssj.edit_distance_join(A, B, 'A.ID', 'B.ID', 'A.Jahrgang:', 'B.Jahrgang:', 1,\n",
    "                                      l_out_attrs=['A.zipcode'], r_out_attrs=['B.zipcode'])\n",
    "output_pairs"
   ]
  },
  {
   "cell_type": "markdown",
   "metadata": {},
   "source": [
    "# Additional options"
   ]
  },
  {
   "cell_type": "markdown",
   "metadata": {},
   "source": [
    "You can find all the options available for the edit distance \n",
    "join function using the **help** command as shown below:"
   ]
  },
  {
   "cell_type": "code",
   "execution_count": null,
   "metadata": {},
   "outputs": [],
   "source": [
    "help(ssj.edit_distance_join)"
   ]
  },
  {
   "cell_type": "markdown",
   "metadata": {},
   "source": [
    "# More information"
   ]
  },
  {
   "cell_type": "markdown",
   "metadata": {},
   "source": [
    "Similar to edit distance measure, you can use the package to perform \n",
    "join using other measures such as cosine, Dice, Jaccard, overlap and \n",
    "overlap coefficient. For measures such as TF-IDF which are not \n",
    "directly supported, you can perform the join using the filters provided \n",
    "in the package. To know more about other join methods as well as how to \n",
    "use filters, refer to the how-to guide (available from the \n",
    "[package homepage](https://sites.google.com/site/anhaidgroup/projects/py_stringsimjoin))."
   ]
  }
 ],
 "metadata": {
  "kernelspec": {
   "display_name": "Python 3 (ipykernel)",
   "language": "python",
   "name": "python3"
  },
  "language_info": {
   "codemirror_mode": {
    "name": "ipython",
    "version": 3
   },
   "file_extension": ".py",
   "mimetype": "text/x-python",
   "name": "python",
   "nbconvert_exporter": "python",
   "pygments_lexer": "ipython3",
   "version": "3.10.1"
  }
 },
 "nbformat": 4,
 "nbformat_minor": 1
}